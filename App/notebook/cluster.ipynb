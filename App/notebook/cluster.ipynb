{
 "cells": [
  {
   "cell_type": "code",
   "execution_count": 153,
   "metadata": {
    "collapsed": true,
    "pycharm": {
     "name": "#%%\n"
    }
   },
   "outputs": [],
   "source": [
    "import numpy as np\n",
    "import pandas as pd\n",
    "import plotly.express as px\n",
    "import seaborn as sb\n",
    "from sklearn.cluster import KMeans"
   ]
  },
  {
   "cell_type": "markdown",
   "metadata": {
    "collapsed": false,
    "pycharm": {
     "name": "#%% md\n"
    }
   },
   "source": [
    "# Считывание файла"
   ]
  },
  {
   "cell_type": "code",
   "execution_count": 6,
   "metadata": {
    "collapsed": false,
    "pycharm": {
     "name": "#%%\n"
    }
   },
   "outputs": [],
   "source": [
    "import sys\n",
    "path = sys.path.append(\"./\")"
   ]
  },
  {
   "cell_type": "code",
   "execution_count": 171,
   "metadata": {
    "collapsed": false,
    "pycharm": {
     "name": "#%%\n"
    }
   },
   "outputs": [],
   "source": [
    "HOME = sys.path[3]\n",
    "FILE = HOME + \"/files/\"\n",
    "\n",
    "dataset = pd.read_csv(FILE + \"hackathon.csv\", sep=\";\")\n",
    "output = pd.read_csv(FILE + \"output (1).csv\", encoding=\"cp1251\", sep=\";\", index_col=False)"
   ]
  },
  {
   "cell_type": "code",
   "execution_count": 172,
   "metadata": {
    "collapsed": false,
    "pycharm": {
     "name": "#%%\n"
    }
   },
   "outputs": [],
   "source": [
    "dataset['okved'] = dataset['okved'].apply(lambda x : x.split('.')[0]).astype(int)"
   ]
  },
  {
   "cell_type": "code",
   "execution_count": 174,
   "metadata": {
    "collapsed": false,
    "pycharm": {
     "name": "#%%\n"
    }
   },
   "outputs": [
    {
     "data": {
      "text/plain": [
       "okved  INN           region            \n",
       "1      10100002801   Республика Адыгея     1\n",
       "       10100003548   Республика Адыгея     1\n",
       "       10100025527   Республика Адыгея     1\n",
       "       10100040910   Республика Адыгея     1\n",
       "       10100067654   Республика Адыгея     1\n",
       "                                          ..\n",
       "98     910403595714  Республика Крым       1\n",
       "       910610185018  Республика Крым       1\n",
       "99     232006668307  Краснодарский край    1\n",
       "       771411703703  г Москва              1\n",
       "       772032467204  г Москва              1\n",
       "Name: region, Length: 3843261, dtype: int64"
      ]
     },
     "execution_count": 174,
     "metadata": {},
     "output_type": "execute_result"
    }
   ],
   "source": [
    "dataset.groupby(['okved', 'INN'])['region'].value_counts()"
   ]
  },
  {
   "cell_type": "code",
   "execution_count": 175,
   "metadata": {
    "collapsed": false,
    "pycharm": {
     "name": "#%%\n"
    }
   },
   "outputs": [
    {
     "data": {
      "text/plain": [
       "7"
      ]
     },
     "execution_count": 175,
     "metadata": {},
     "output_type": "execute_result"
    }
   ],
   "source": [
    "output['region'].unique().shape[0]"
   ]
  },
  {
   "cell_type": "code",
   "execution_count": 176,
   "metadata": {
    "collapsed": false,
    "pycharm": {
     "name": "#%%\n"
    }
   },
   "outputs": [
    {
     "data": {
      "text/html": [
       "<div>\n",
       "<style scoped>\n",
       "    .dataframe tbody tr th:only-of-type {\n",
       "        vertical-align: middle;\n",
       "    }\n",
       "\n",
       "    .dataframe tbody tr th {\n",
       "        vertical-align: top;\n",
       "    }\n",
       "\n",
       "    .dataframe thead th {\n",
       "        text-align: right;\n",
       "    }\n",
       "</style>\n",
       "<table border=\"1\" class=\"dataframe\">\n",
       "  <thead>\n",
       "    <tr style=\"text-align: right;\">\n",
       "      <th></th>\n",
       "      <th>INN</th>\n",
       "      <th>registration_date</th>\n",
       "      <th>region</th>\n",
       "      <th>okved</th>\n",
       "      <th>industry</th>\n",
       "      <th>section</th>\n",
       "      <th>cluster_id</th>\n",
       "      <th>start_date</th>\n",
       "      <th>end_date</th>\n",
       "      <th>business_count</th>\n",
       "    </tr>\n",
       "  </thead>\n",
       "  <tbody>\n",
       "    <tr>\n",
       "      <th>0</th>\n",
       "      <td>20502013704</td>\n",
       "      <td>2014-12-05</td>\n",
       "      <td>Республика Башкортостан</td>\n",
       "      <td>96.02</td>\n",
       "      <td>Предоставление услуг парикмахерскими и салонам...</td>\n",
       "      <td>Предоставление прочих видов услуг</td>\n",
       "      <td>NaN</td>\n",
       "      <td>2014-12-05</td>\n",
       "      <td>NaN</td>\n",
       "      <td>2</td>\n",
       "    </tr>\n",
       "    <tr>\n",
       "      <th>1</th>\n",
       "      <td>10404244707</td>\n",
       "      <td>2019-08-14</td>\n",
       "      <td>Республика Адыгея</td>\n",
       "      <td>96.02</td>\n",
       "      <td>Предоставление услуг парикмахерскими и салонам...</td>\n",
       "      <td>Предоставление прочих видов услуг</td>\n",
       "      <td>NaN</td>\n",
       "      <td>2019-08-14</td>\n",
       "      <td>NaN</td>\n",
       "      <td>1</td>\n",
       "    </tr>\n",
       "    <tr>\n",
       "      <th>2</th>\n",
       "      <td>20201737037</td>\n",
       "      <td>2019-05-08</td>\n",
       "      <td>Республика Башкортостан</td>\n",
       "      <td>96.02</td>\n",
       "      <td>Предоставление услуг парикмахерскими и салонам...</td>\n",
       "      <td>Предоставление прочих видов услуг</td>\n",
       "      <td>NaN</td>\n",
       "      <td>2019-05-08</td>\n",
       "      <td>NaN</td>\n",
       "      <td>3</td>\n",
       "    </tr>\n",
       "    <tr>\n",
       "      <th>3</th>\n",
       "      <td>20103734461</td>\n",
       "      <td>2016-09-02</td>\n",
       "      <td>Республика Башкортостан</td>\n",
       "      <td>96.02</td>\n",
       "      <td>Предоставление услуг парикмахерскими и салонам...</td>\n",
       "      <td>Предоставление прочих видов услуг</td>\n",
       "      <td>NaN</td>\n",
       "      <td>2016-09-02</td>\n",
       "      <td>NaN</td>\n",
       "      <td>1</td>\n",
       "    </tr>\n",
       "    <tr>\n",
       "      <th>4</th>\n",
       "      <td>20201871427</td>\n",
       "      <td>2019-08-05</td>\n",
       "      <td>Республика Башкортостан</td>\n",
       "      <td>49.41.2</td>\n",
       "      <td>Перевозка грузов неспециализированными автотра...</td>\n",
       "      <td>Транспортировка и хранение</td>\n",
       "      <td>NaN</td>\n",
       "      <td>2019-08-05</td>\n",
       "      <td>NaN</td>\n",
       "      <td>1</td>\n",
       "    </tr>\n",
       "    <tr>\n",
       "      <th>...</th>\n",
       "      <td>...</td>\n",
       "      <td>...</td>\n",
       "      <td>...</td>\n",
       "      <td>...</td>\n",
       "      <td>...</td>\n",
       "      <td>...</td>\n",
       "      <td>...</td>\n",
       "      <td>...</td>\n",
       "      <td>...</td>\n",
       "      <td>...</td>\n",
       "    </tr>\n",
       "    <tr>\n",
       "      <th>95</th>\n",
       "      <td>20501810506</td>\n",
       "      <td>2022-08-10</td>\n",
       "      <td>Республика Башкортостан</td>\n",
       "      <td>43.21</td>\n",
       "      <td>Производство электромонтажных работ           ...</td>\n",
       "      <td>Строительство</td>\n",
       "      <td>NaN</td>\n",
       "      <td>2022-08-10</td>\n",
       "      <td>NaN</td>\n",
       "      <td>2</td>\n",
       "    </tr>\n",
       "    <tr>\n",
       "      <th>96</th>\n",
       "      <td>20501898772</td>\n",
       "      <td>2019-03-13</td>\n",
       "      <td>Республика Башкортостан</td>\n",
       "      <td>01.41</td>\n",
       "      <td>Разведение молочного крупного рогатого скота, ...</td>\n",
       "      <td>Сельское, лесное хозяйство, охота, рыболовство...</td>\n",
       "      <td>NaN</td>\n",
       "      <td>2019-03-13</td>\n",
       "      <td>NaN</td>\n",
       "      <td>2</td>\n",
       "    </tr>\n",
       "    <tr>\n",
       "      <th>97</th>\n",
       "      <td>20401583401</td>\n",
       "      <td>2019-02-26</td>\n",
       "      <td>Республика Башкортостан</td>\n",
       "      <td>01.41</td>\n",
       "      <td>Разведение молочного крупного рогатого скота, ...</td>\n",
       "      <td>Сельское, лесное хозяйство, охота, рыболовство...</td>\n",
       "      <td>NaN</td>\n",
       "      <td>2019-02-26</td>\n",
       "      <td>NaN</td>\n",
       "      <td>1</td>\n",
       "    </tr>\n",
       "    <tr>\n",
       "      <th>98</th>\n",
       "      <td>21101785374</td>\n",
       "      <td>2008-11-28</td>\n",
       "      <td>Республика Башкортостан</td>\n",
       "      <td>01.41</td>\n",
       "      <td>Разведение молочного крупного рогатого скота, ...</td>\n",
       "      <td>Сельское, лесное хозяйство, охота, рыболовство...</td>\n",
       "      <td>NaN</td>\n",
       "      <td>2008-11-28</td>\n",
       "      <td>NaN</td>\n",
       "      <td>1</td>\n",
       "    </tr>\n",
       "    <tr>\n",
       "      <th>99</th>\n",
       "      <td>21101955403</td>\n",
       "      <td>2013-01-16</td>\n",
       "      <td>Челябинская область</td>\n",
       "      <td>49.41.2</td>\n",
       "      <td>Перевозка грузов неспециализированными автотра...</td>\n",
       "      <td>Транспортировка и хранение</td>\n",
       "      <td>NaN</td>\n",
       "      <td>2013-01-16</td>\n",
       "      <td>NaN</td>\n",
       "      <td>2</td>\n",
       "    </tr>\n",
       "  </tbody>\n",
       "</table>\n",
       "<p>100 rows × 10 columns</p>\n",
       "</div>"
      ],
      "text/plain": [
       "            INN registration_date                   region    okved  \\\n",
       "0   20502013704        2014-12-05  Республика Башкортостан    96.02   \n",
       "1   10404244707        2019-08-14        Республика Адыгея    96.02   \n",
       "2   20201737037        2019-05-08  Республика Башкортостан    96.02   \n",
       "3   20103734461        2016-09-02  Республика Башкортостан    96.02   \n",
       "4   20201871427        2019-08-05  Республика Башкортостан  49.41.2   \n",
       "..          ...               ...                      ...      ...   \n",
       "95  20501810506        2022-08-10  Республика Башкортостан    43.21   \n",
       "96  20501898772        2019-03-13  Республика Башкортостан    01.41   \n",
       "97  20401583401        2019-02-26  Республика Башкортостан    01.41   \n",
       "98  21101785374        2008-11-28  Республика Башкортостан    01.41   \n",
       "99  21101955403        2013-01-16      Челябинская область  49.41.2   \n",
       "\n",
       "                                             industry  \\\n",
       "0   Предоставление услуг парикмахерскими и салонам...   \n",
       "1   Предоставление услуг парикмахерскими и салонам...   \n",
       "2   Предоставление услуг парикмахерскими и салонам...   \n",
       "3   Предоставление услуг парикмахерскими и салонам...   \n",
       "4   Перевозка грузов неспециализированными автотра...   \n",
       "..                                                ...   \n",
       "95  Производство электромонтажных работ           ...   \n",
       "96  Разведение молочного крупного рогатого скота, ...   \n",
       "97  Разведение молочного крупного рогатого скота, ...   \n",
       "98  Разведение молочного крупного рогатого скота, ...   \n",
       "99  Перевозка грузов неспециализированными автотра...   \n",
       "\n",
       "                                              section  cluster_id  start_date  \\\n",
       "0                   Предоставление прочих видов услуг         NaN  2014-12-05   \n",
       "1                   Предоставление прочих видов услуг         NaN  2019-08-14   \n",
       "2                   Предоставление прочих видов услуг         NaN  2019-05-08   \n",
       "3                   Предоставление прочих видов услуг         NaN  2016-09-02   \n",
       "4                          Транспортировка и хранение         NaN  2019-08-05   \n",
       "..                                                ...         ...         ...   \n",
       "95                                      Строительство         NaN  2022-08-10   \n",
       "96  Сельское, лесное хозяйство, охота, рыболовство...         NaN  2019-03-13   \n",
       "97  Сельское, лесное хозяйство, охота, рыболовство...         NaN  2019-02-26   \n",
       "98  Сельское, лесное хозяйство, охота, рыболовство...         NaN  2008-11-28   \n",
       "99                         Транспортировка и хранение         NaN  2013-01-16   \n",
       "\n",
       "   end_date  business_count  \n",
       "0       NaN               2  \n",
       "1       NaN               1  \n",
       "2       NaN               3  \n",
       "3       NaN               1  \n",
       "4       NaN               1  \n",
       "..      ...             ...  \n",
       "95      NaN               2  \n",
       "96      NaN               2  \n",
       "97      NaN               1  \n",
       "98      NaN               1  \n",
       "99      NaN               2  \n",
       "\n",
       "[100 rows x 10 columns]"
      ]
     },
     "execution_count": 176,
     "metadata": {},
     "output_type": "execute_result"
    }
   ],
   "source": [
    "output.drop(\"Unnamed: 0\", axis=1)"
   ]
  },
  {
   "cell_type": "markdown",
   "metadata": {
    "collapsed": false,
    "pycharm": {
     "name": "#%% md\n"
    }
   },
   "source": [
    "# Запускаем предобработку данных"
   ]
  },
  {
   "cell_type": "code",
   "execution_count": 177,
   "metadata": {
    "collapsed": false,
    "pycharm": {
     "name": "#%%\n"
    }
   },
   "outputs": [],
   "source": [
    "output['okved'] = output['okved'].apply(lambda x : x.split('.')[0]).astype(int)"
   ]
  },
  {
   "cell_type": "code",
   "execution_count": 178,
   "metadata": {
    "collapsed": false,
    "pycharm": {
     "name": "#%%\n"
    }
   },
   "outputs": [],
   "source": [
    "cat_feature = [\"registration_date\", \"region\", \"okved\", \"section\"]\n",
    "num_feature = [\"business_count\"]"
   ]
  },
  {
   "cell_type": "code",
   "execution_count": 179,
   "metadata": {
    "collapsed": false,
    "pycharm": {
     "name": "#%%\n"
    }
   },
   "outputs": [],
   "source": [
    "df = pd.DataFrame()"
   ]
  },
  {
   "cell_type": "markdown",
   "metadata": {
    "collapsed": false,
    "pycharm": {
     "name": "#%% md\n"
    }
   },
   "source": [
    "Преобразует строковые категориальный признаки в числовые"
   ]
  },
  {
   "cell_type": "code",
   "execution_count": 180,
   "metadata": {
    "collapsed": false,
    "pycharm": {
     "name": "#%%\n"
    }
   },
   "outputs": [],
   "source": [
    "from sklearn.preprocessing import LabelEncoder\n",
    "\n",
    "labelencoder = LabelEncoder()\n",
    "df[\"okved\"] = output['okved']\n",
    "df[\"region\"] = labelencoder.fit_transform(output[\"region\"].values)\n",
    "df[\"section\"] = labelencoder.fit_transform(output[\"section\"].values)\n",
    "df[\"count\"] = output[\"business_count\"]"
   ]
  },
  {
   "cell_type": "code",
   "execution_count": 181,
   "metadata": {
    "collapsed": false,
    "pycharm": {
     "name": "#%%\n"
    }
   },
   "outputs": [
    {
     "data": {
      "text/html": [
       "<div>\n",
       "<style scoped>\n",
       "    .dataframe tbody tr th:only-of-type {\n",
       "        vertical-align: middle;\n",
       "    }\n",
       "\n",
       "    .dataframe tbody tr th {\n",
       "        vertical-align: top;\n",
       "    }\n",
       "\n",
       "    .dataframe thead th {\n",
       "        text-align: right;\n",
       "    }\n",
       "</style>\n",
       "<table border=\"1\" class=\"dataframe\">\n",
       "  <thead>\n",
       "    <tr style=\"text-align: right;\">\n",
       "      <th></th>\n",
       "      <th>okved</th>\n",
       "      <th>region</th>\n",
       "      <th>section</th>\n",
       "      <th>count</th>\n",
       "    </tr>\n",
       "  </thead>\n",
       "  <tbody>\n",
       "    <tr>\n",
       "      <th>0</th>\n",
       "      <td>96</td>\n",
       "      <td>3</td>\n",
       "      <td>6</td>\n",
       "      <td>2</td>\n",
       "    </tr>\n",
       "    <tr>\n",
       "      <th>1</th>\n",
       "      <td>96</td>\n",
       "      <td>2</td>\n",
       "      <td>6</td>\n",
       "      <td>1</td>\n",
       "    </tr>\n",
       "    <tr>\n",
       "      <th>2</th>\n",
       "      <td>96</td>\n",
       "      <td>3</td>\n",
       "      <td>6</td>\n",
       "      <td>3</td>\n",
       "    </tr>\n",
       "    <tr>\n",
       "      <th>3</th>\n",
       "      <td>96</td>\n",
       "      <td>3</td>\n",
       "      <td>6</td>\n",
       "      <td>1</td>\n",
       "    </tr>\n",
       "    <tr>\n",
       "      <th>4</th>\n",
       "      <td>49</td>\n",
       "      <td>3</td>\n",
       "      <td>10</td>\n",
       "      <td>1</td>\n",
       "    </tr>\n",
       "    <tr>\n",
       "      <th>...</th>\n",
       "      <td>...</td>\n",
       "      <td>...</td>\n",
       "      <td>...</td>\n",
       "      <td>...</td>\n",
       "    </tr>\n",
       "    <tr>\n",
       "      <th>95</th>\n",
       "      <td>43</td>\n",
       "      <td>3</td>\n",
       "      <td>8</td>\n",
       "      <td>2</td>\n",
       "    </tr>\n",
       "    <tr>\n",
       "      <th>96</th>\n",
       "      <td>1</td>\n",
       "      <td>3</td>\n",
       "      <td>7</td>\n",
       "      <td>2</td>\n",
       "    </tr>\n",
       "    <tr>\n",
       "      <th>97</th>\n",
       "      <td>1</td>\n",
       "      <td>3</td>\n",
       "      <td>7</td>\n",
       "      <td>1</td>\n",
       "    </tr>\n",
       "    <tr>\n",
       "      <th>98</th>\n",
       "      <td>1</td>\n",
       "      <td>3</td>\n",
       "      <td>7</td>\n",
       "      <td>1</td>\n",
       "    </tr>\n",
       "    <tr>\n",
       "      <th>99</th>\n",
       "      <td>49</td>\n",
       "      <td>6</td>\n",
       "      <td>10</td>\n",
       "      <td>2</td>\n",
       "    </tr>\n",
       "  </tbody>\n",
       "</table>\n",
       "<p>100 rows × 4 columns</p>\n",
       "</div>"
      ],
      "text/plain": [
       "    okved  region  section  count\n",
       "0      96       3        6      2\n",
       "1      96       2        6      1\n",
       "2      96       3        6      3\n",
       "3      96       3        6      1\n",
       "4      49       3       10      1\n",
       "..    ...     ...      ...    ...\n",
       "95     43       3        8      2\n",
       "96      1       3        7      2\n",
       "97      1       3        7      1\n",
       "98      1       3        7      1\n",
       "99     49       6       10      2\n",
       "\n",
       "[100 rows x 4 columns]"
      ]
     },
     "execution_count": 181,
     "metadata": {},
     "output_type": "execute_result"
    }
   ],
   "source": [
    "df"
   ]
  },
  {
   "cell_type": "code",
   "execution_count": 183,
   "metadata": {
    "collapsed": false,
    "pycharm": {
     "name": "#%%\n"
    }
   },
   "outputs": [
    {
     "data": {
      "image/png": "[encoded data removed]",
      "text/plain": [
       "<Figure size 1000x1000 with 20 Axes>"
      ]
     },
     "metadata": {},
     "output_type": "display_data"
    }
   ],
   "source": [
    "sb.pairplot(df)\n",
    "None"
   ]
  },
  {
   "cell_type": "code",
   "execution_count": 184,
   "metadata": {
    "collapsed": false,
    "pycharm": {
     "name": "#%%\n"
    }
   },
   "outputs": [
    {
     "name": "stdout",
     "output_type": "stream",
     "text": [
      "explained variance per feature[0.99637909 0.00286035]\n",
      "2 compomemt - explained variance 0.999\n"
     ]
    }
   ],
   "source": [
    "from sklearn.decomposition import PCA\n",
    "\n",
    "pca = PCA(n_components=2)                   # оставим только два признака\n",
    "# новые признаки -- это линейная комбинация старых\n",
    "# они неинтерпретируемы, но позволяют оценить число кластеров\n",
    "X = pca.fit_transform(df.values )\n",
    "\n",
    "print(\"explained variance per feature\", end = \"\")\n",
    "print(pca.explained_variance_ratio_)\n",
    "print(f\"2 compomemt - explained variance {np.sum(pca.explained_variance_ratio_):.3f}\")"
   ]
  },
  {
   "cell_type": "code",
   "execution_count": 185,
   "metadata": {
    "collapsed": false,
    "pycharm": {
     "name": "#%%\n"
    }
   },
   "outputs": [
    {
     "data": {
      "text/plain": [
       "<matplotlib.collections.PathCollection at 0x18341859780>"
      ]
     },
     "execution_count": 185,
     "metadata": {},
     "output_type": "execute_result"
    },
    {
     "data": {
      "image/png": "[encoded data removed]",
      "text/plain": [
       "<Figure size 640x480 with 1 Axes>"
      ]
     },
     "metadata": {},
     "output_type": "display_data"
    }
   ],
   "source": [
    "import matplotlib.pyplot as plt\n",
    "\n",
    "plt.scatter( X[:, 0], X[:, 1] )"
   ]
  },
  {
   "cell_type": "markdown",
   "metadata": {
    "collapsed": false,
    "pycharm": {
     "name": "#%% md\n"
    }
   },
   "source": [
    "Отображение кластеров. Код взят с https://scikit-learn.org/stable/auto_examples/cluster/plot_kmeans_digits.html"
   ]
  },
  {
   "cell_type": "code",
   "execution_count": 186,
   "metadata": {
    "collapsed": false,
    "pycharm": {
     "name": "#%%\n"
    }
   },
   "outputs": [
    {
     "data": {
      "image/png": "[encoded data removed]",
      "text/plain": [
       "<Figure size 640x480 with 1 Axes>"
      ]
     },
     "metadata": {},
     "output_type": "display_data"
    }
   ],
   "source": [
    "kmeans = KMeans(init=\"k-means++\", n_clusters=5)\n",
    "kmeans.fit(X)\n",
    "\n",
    "# Step size of the mesh. Decrease to increase the quality of the VQ.\n",
    "h = 0.02  # point in the mesh [x_min, x_max]x[y_min, y_max].\n",
    "\n",
    "# Plot the decision boundary. For that, we will assign a color to each\n",
    "x_min, x_max = X[:, 0].min() - 1, X[:, 0].max() + 1\n",
    "y_min, y_max = X[:, 1].min() - 1, X[:, 1].max() + 1\n",
    "xx, yy = np.meshgrid(np.arange(x_min, x_max, h), np.arange(y_min, y_max, h))\n",
    "\n",
    "# Obtain labels for each point in mesh. Use last trained model.\n",
    "Z = kmeans.predict(np.c_[xx.ravel(), yy.ravel()])\n",
    "\n",
    "# Put the result into a color plot\n",
    "Z = Z.reshape(xx.shape)\n",
    "plt.figure(1)\n",
    "plt.clf()\n",
    "plt.imshow(\n",
    "    Z,\n",
    "    interpolation=\"nearest\",\n",
    "    extent=(xx.min(), xx.max(), yy.min(), yy.max()),\n",
    "    cmap=plt.cm.Paired,\n",
    "    aspect=\"auto\",\n",
    "    origin=\"lower\",\n",
    ")\n",
    "\n",
    "plt.plot(X[:, 0], X[:, 1], \"k.\", markersize=2)\n",
    "# Plot the centroids as a white X\n",
    "centroids = kmeans.cluster_centers_\n",
    "plt.scatter(\n",
    "    centroids[:, 0],\n",
    "    centroids[:, 1],\n",
    "    marker=\"x\",\n",
    "    s=169,\n",
    "    linewidths=3,\n",
    "    color=\"w\",\n",
    "    zorder=10,\n",
    ")\n",
    "plt.title(\n",
    "    \"K-means clustering on the digits dataset (PCA-reduced data)\\n\"\n",
    "    \"Centroids are marked with white cross\"\n",
    ")\n",
    "plt.xlim(x_min, x_max)\n",
    "plt.ylim(y_min, y_max)\n",
    "plt.xticks(())\n",
    "plt.yticks(())\n",
    "plt.show()"
   ]
  },
  {
   "cell_type": "code",
   "execution_count": 188,
   "metadata": {
    "collapsed": false,
    "pycharm": {
     "name": "#%%\n"
    }
   },
   "outputs": [
    {
     "name": "stdout",
     "output_type": "stream",
     "text": [
      "3 compomemt - explained variance 0.999\n"
     ]
    },
    {
     "data": {
      "application/vnd.plotly.v1+json": {
       "config": {
        "plotlyServerURL": "https://plot.ly"
       },
       "data": [
        {
         "hovertemplate": "x=%{x}<br>y=%{y}<br>z=%{z}<extra></extra>",
         "legendgroup": "",
         "marker": {
          "color": "#636efa",
          "symbol": "circle"
         },
         "mode": "markers",
         "name": "",
         "scene": "scene",
         "showlegend": false,
         "type": "scatter3d",
         "x": [
          54.23700766694173,
          54.240670182045534,
          54.23563350236836,
          54.238381831515014,
          7.2048673232012455,
          54.238381831515014,
          7.203493158627917,
          7.2048673232012455,
          -40.76641472174547,
          -40.7677888863188,
          1.2228939008131374,
          -40.7677888863188,
          -40.76641472174547,
          1.2228939008131374,
          -40.76687470036161,
          5.209715090373478,
          3.2139236399209206,
          -40.76641472174547,
          -40.76412637121495,
          5.211089254946806,
          -27.746917323963924,
          -40.76641472174547,
          -19.749549897804272,
          4.212506447433863,
          54.238381831515014,
          7.20715567373176,
          54.23700766694168,
          1.2228939008131374,
          5.212463419520135,
          1.2228939008131374,
          7.203493158627917,
          54.238381831515014,
          22.25981548541437,
          20.275381600840838,
          1.2228939008131374,
          1.2228939008131374,
          5.213837584093462,
          -24.74933475823562,
          1.218317199752104,
          54.238381831515014,
          -40.76641472174547,
          7.2048673232012455,
          54.240670182045534,
          54.240670182045534,
          5.213837584093462,
          5.21612593462398,
          1.227470601874171,
          4.21388061200719,
          -3.705817319100144,
          -19.747261547273755,
          54.240670182045534,
          1.2215197362398091,
          54.238381831515014,
          54.24387271853324,
          54.238381831515014,
          5.212463419520135,
          4.21388061200719,
          -40.76641472174547,
          -40.76641472174547,
          54.238381831515014,
          -40.76641472174547,
          1.2228939008131374,
          54.238381831515014,
          -40.7677888863188,
          5.213837584093462,
          -40.7677888863188,
          5.213837584093462,
          54.238381831515014,
          -40.76641472174547,
          -40.7677888863188,
          5.213837584093462,
          32.26598106081132,
          -40.76641472174547,
          5.213837584093462,
          1.2160288492215876,
          1.2228939008131374,
          -40.7677888863188,
          -40.7677888863188,
          5.213837584093462,
          -40.76641472174547,
          1.2206055502826207,
          -9.749980176941564,
          -40.7677888863188,
          5.213837584093462,
          46.28314708014863,
          -40.76641472174547,
          -40.76641472174547,
          -19.749549897804272,
          1.2160288492215876,
          53.23842485942873,
          3.2139236399209206,
          1.2228939008131374,
          -40.7677888863188,
          -40.76641472174547,
          -40.76641472174547,
          1.2215197362398091,
          -40.7677888863188,
          -40.76641472174547,
          -40.76641472174547,
          7.196628107036367
         ],
         "y": [
          0.6287598152463595,
          0.7698490332557332,
          0.5753359814263366,
          0.6821836490663856,
          -2.868283479343867,
          0.6821836490663856,
          -2.9217073131638926,
          -2.868283479343867,
          0.5530832469866204,
          0.4996594131665951,
          -0.8242663330285602,
          0.4996594131665951,
          0.5530832469866204,
          -0.8242663330285602,
          0.5339009635359167,
          -2.0156577155144313,
          -1.8371635983180723,
          0.5530832469866204,
          0.640748631175967,
          -1.962233881694406,
          2.5116509279965813,
          0.5530832469866204,
          2.351095080862102,
          -1.8996987400062393,
          0.6821836490663856,
          -2.7806180951545207,
          0.6287598152463604,
          -0.8242663330285602,
          -1.9088100478743808,
          -0.8242663330285602,
          -2.9217073131638926,
          0.6821836490663856,
          3.050760184142724,
          4.970666714796118,
          -0.8242663330285602,
          -0.8242663330285602,
          -1.8553862140543556,
          2.39665162020281,
          -0.9995971014072538,
          0.6821836490663856,
          0.5530832469866204,
          -2.868283479343867,
          0.7698490332557324,
          0.7698490332557324,
          -1.8553862140543556,
          -1.767720829865009,
          -0.6489355646498668,
          -1.8462749061862143,
          7.178687402737976,
          2.4387604650514483,
          0.7698490332557324,
          -0.8776901668485855,
          0.6821836490663856,
          0.8917559678144004,
          0.6821836490663856,
          -1.9088100478743808,
          -1.8462749061862143,
          0.5530832469866204,
          0.5530832469866204,
          0.6821836490663856,
          0.5530832469866204,
          -0.8242663330285602,
          0.6821836490663856,
          0.4996594131665951,
          -1.8553862140543556,
          0.4996594131665951,
          -1.8553862140543556,
          0.6821836490663856,
          0.5530832469866204,
          0.4996594131665951,
          -1.8553862140543556,
          3.866656370825188,
          0.5530832469866204,
          -1.8553862140543556,
          -1.0872624855966004,
          -0.8242663330285602,
          0.4996594131665951,
          0.4996594131665951,
          -1.8553862140543556,
          0.5530832469866204,
          -0.9119317172179071,
          2.259982002180684,
          0.4996594131665951,
          -1.8553862140543556,
          5.728447359777662,
          0.5530832469866204,
          0.5530832469866204,
          2.351095080862102,
          -1.0872624855966004,
          0.6912949569345271,
          -1.8371635983180723,
          -0.8242663330285602,
          0.4996594131665951,
          0.5530832469866204,
          0.5530832469866204,
          -0.8776901668485855,
          0.49965941316659507,
          0.5530832469866203,
          0.5530832469866203,
          -3.184703465731933
         ],
         "z": [
          0.1284276254620871,
          -0.7455856317290648,
          0.012495789306765011,
          0.244359461617409,
          -0.14492848769887323,
          0.244359461617409,
          -0.2608603238541953,
          -0.14492848769887323,
          0.031639325952475476,
          -0.08429251020284653,
          0.008823650612025141,
          -0.08429251020284653,
          0.031639325952475476,
          0.008823650612025141,
          -1.1901694397046434,
          -0.41446176306541577,
          -0.06943858248739838,
          0.031639325952475476,
          -0.9583057673939994,
          -0.2985299269100938,
          -0.7782165141475887,
          0.031639325952475476,
          0.22281789075068079,
          -0.1839842546987461,
          0.244359461617409,
          -1.1348735810453483,
          0.128427625462087,
          0.008823650612025141,
          -0.18259809075477174,
          0.008823650612025141,
          -0.2608603238541953,
          0.244359461617409,
          -0.6278737559615001,
          0.5213681314717705,
          0.008823650612025141,
          0.008823650612025141,
          -0.06666625459944972,
          0.21588707103080915,
          1.9887138373049753,
          0.244359461617409,
          0.031639325952475476,
          -0.14492848769887323,
          -0.745585631729066,
          -0.745585631729066,
          -0.06666625459944972,
          -1.0566113479459247,
          -1.9710665360809245,
          -0.06805241854342409,
          0.650169318791131,
          -0.7671272025957941,
          -0.745585631729066,
          -0.10710818554329689,
          0.244359461617409,
          -2.8414076545773375,
          0.244359461617409,
          -0.18259809075477174,
          -0.06805241854342409,
          0.031639325952475476,
          0.031639325952475476,
          0.244359461617409,
          0.031639325952475476,
          0.008823650612025141,
          0.244359461617409,
          -0.08429251020284653,
          -0.06666625459944972,
          -0.08429251020284653,
          -0.06666625459944972,
          0.244359461617409,
          0.031639325952475476,
          -0.08429251020284653,
          -0.06666625459944972,
          0.45696753781209026,
          0.031639325952475476,
          -0.06666625459944972,
          2.9786589306514504,
          0.008823650612025141,
          -0.08429251020284653,
          -0.08429251020284653,
          -0.06666625459944972,
          0.031639325952475476,
          0.9987687439585002,
          0.23667953019042406,
          -0.08429251020284653,
          -0.06666625459944972,
          0.6384429550024754,
          0.031639325952475476,
          0.031639325952475476,
          0.22281789075068079,
          2.9786589306514504,
          0.24297329767343462,
          -0.06943858248739838,
          0.008823650612025141,
          -0.08429251020284653,
          0.031639325952475476,
          0.031639325952475476,
          -0.10710818554329689,
          -0.08429251020284655,
          0.03163932595247547,
          0.03163932595247547,
          2.7089749561852297
         ]
        }
       ],
       "layout": {
        "legend": {
         "tracegroupgap": 0
        },
        "margin": {
         "t": 60
        },
        "scene": {
         "domain": {
          "x": [
           0,
           1
          ],
          "y": [
           0,
           1
          ]
         },
         "xaxis": {
          "title": {
           "text": "x"
          }
         },
         "yaxis": {
          "title": {
           "text": "y"
          }
         },
         "zaxis": {
          "title": {
           "text": "z"
          }
         }
        },
        "template": {
         "data": {
          "bar": [
           {
            "error_x": {
             "color": "#f2f5fa"
            },
            "error_y": {
             "color": "#f2f5fa"
            },
            "marker": {
             "line": {
              "color": "rgb(17,17,17)",
              "width": 0.5
             },
             "pattern": {
              "fillmode": "overlay",
              "size": 10,
              "solidity": 0.2
             }
            },
            "type": "bar"
           }
          ],
          "barpolar": [
           {
            "marker": {
             "line": {
              "color": "rgb(17,17,17)",
              "width": 0.5
             },
             "pattern": {
              "fillmode": "overlay",
              "size": 10,
              "solidity": 0.2
             }
            },
            "type": "barpolar"
           }
          ],
          "carpet": [
           {
            "aaxis": {
             "endlinecolor": "#A2B1C6",
             "gridcolor": "#506784",
             "linecolor": "#506784",
             "minorgridcolor": "#506784",
             "startlinecolor": "#A2B1C6"
            },
            "baxis": {
             "endlinecolor": "#A2B1C6",
             "gridcolor": "#506784",
             "linecolor": "#506784",
             "minorgridcolor": "#506784",
             "startlinecolor": "#A2B1C6"
            },
            "type": "carpet"
           }
          ],
          "choropleth": [
           {
            "colorbar": {
             "outlinewidth": 0,
             "ticks": ""
            },
            "type": "choropleth"
           }
          ],
          "contour": [
           {
            "colorbar": {
             "outlinewidth": 0,
             "ticks": ""
            },
            "colorscale": [
             [
              0,
              "#0d0887"
             ],
             [
              0.1111111111111111,
              "#46039f"
             ],
             [
              0.2222222222222222,
              "#7201a8"
             ],
             [
              0.3333333333333333,
              "#9c179e"
             ],
             [
              0.4444444444444444,
              "#bd3786"
             ],
             [
              0.5555555555555556,
              "#d8576b"
             ],
             [
              0.6666666666666666,
              "#ed7953"
             ],
             [
              0.7777777777777778,
              "#fb9f3a"
             ],
             [
              0.8888888888888888,
              "#fdca26"
             ],
             [
              1,
              "#f0f921"
             ]
            ],
            "type": "contour"
           }
          ],
          "contourcarpet": [
           {
            "colorbar": {
             "outlinewidth": 0,
             "ticks": ""
            },
            "type": "contourcarpet"
           }
          ],
          "heatmap": [
           {
            "colorbar": {
             "outlinewidth": 0,
             "ticks": ""
            },
            "colorscale": [
             [
              0,
              "#0d0887"
             ],
             [
              0.1111111111111111,
              "#46039f"
             ],
             [
              0.2222222222222222,
              "#7201a8"
             ],
             [
              0.3333333333333333,
              "#9c179e"
             ],
             [
              0.4444444444444444,
              "#bd3786"
             ],
             [
              0.5555555555555556,
              "#d8576b"
             ],
             [
              0.6666666666666666,
              "#ed7953"
             ],
             [
              0.7777777777777778,
              "#fb9f3a"
             ],
             [
              0.8888888888888888,
              "#fdca26"
             ],
             [
              1,
              "#f0f921"
             ]
            ],
            "type": "heatmap"
           }
          ],
          "heatmapgl": [
           {
            "colorbar": {
             "outlinewidth": 0,
             "ticks": ""
            },
            "colorscale": [
             [
              0,
              "#0d0887"
             ],
             [
              0.1111111111111111,
              "#46039f"
             ],
             [
              0.2222222222222222,
              "#7201a8"
             ],
             [
              0.3333333333333333,
              "#9c179e"
             ],
             [
              0.4444444444444444,
              "#bd3786"
             ],
             [
              0.5555555555555556,
              "#d8576b"
             ],
             [
              0.6666666666666666,
              "#ed7953"
             ],
             [
              0.7777777777777778,
              "#fb9f3a"
             ],
             [
              0.8888888888888888,
              "#fdca26"
             ],
             [
              1,
              "#f0f921"
             ]
            ],
            "type": "heatmapgl"
           }
          ],
          "histogram": [
           {
            "marker": {
             "pattern": {
              "fillmode": "overlay",
              "size": 10,
              "solidity": 0.2
             }
            },
            "type": "histogram"
           }
          ],
          "histogram2d": [
           {
            "colorbar": {
             "outlinewidth": 0,
             "ticks": ""
            },
            "colorscale": [
             [
              0,
              "#0d0887"
             ],
             [
              0.1111111111111111,
              "#46039f"
             ],
             [
              0.2222222222222222,
              "#7201a8"
             ],
             [
              0.3333333333333333,
              "#9c179e"
             ],
             [
              0.4444444444444444,
              "#bd3786"
             ],
             [
              0.5555555555555556,
              "#d8576b"
             ],
             [
              0.6666666666666666,
              "#ed7953"
             ],
             [
              0.7777777777777778,
              "#fb9f3a"
             ],
             [
              0.8888888888888888,
              "#fdca26"
             ],
             [
              1,
              "#f0f921"
             ]
            ],
            "type": "histogram2d"
           }
          ],
          "histogram2dcontour": [
           {
            "colorbar": {
             "outlinewidth": 0,
             "ticks": ""
            },
            "colorscale": [
             [
              0,
              "#0d0887"
             ],
             [
              0.1111111111111111,
              "#46039f"
             ],
             [
              0.2222222222222222,
              "#7201a8"
             ],
             [
              0.3333333333333333,
              "#9c179e"
             ],
             [
              0.4444444444444444,
              "#bd3786"
             ],
             [
              0.5555555555555556,
              "#d8576b"
             ],
             [
              0.6666666666666666,
              "#ed7953"
             ],
             [
              0.7777777777777778,
              "#fb9f3a"
             ],
             [
              0.8888888888888888,
              "#fdca26"
             ],
             [
              1,
              "#f0f921"
             ]
            ],
            "type": "histogram2dcontour"
           }
          ],
          "mesh3d": [
           {
            "colorbar": {
             "outlinewidth": 0,
             "ticks": ""
            },
            "type": "mesh3d"
           }
          ],
          "parcoords": [
           {
            "line": {
             "colorbar": {
              "outlinewidth": 0,
              "ticks": ""
             }
            },
            "type": "parcoords"
           }
          ],
          "pie": [
           {
            "automargin": true,
            "type": "pie"
           }
          ],
          "scatter": [
           {
            "marker": {
             "line": {
              "color": "#283442"
             }
            },
            "type": "scatter"
           }
          ],
          "scatter3d": [
           {
            "line": {
             "colorbar": {
              "outlinewidth": 0,
              "ticks": ""
             }
            },
            "marker": {
             "colorbar": {
              "outlinewidth": 0,
              "ticks": ""
             }
            },
            "type": "scatter3d"
           }
          ],
          "scattercarpet": [
           {
            "marker": {
             "colorbar": {
              "outlinewidth": 0,
              "ticks": ""
             }
            },
            "type": "scattercarpet"
           }
          ],
          "scattergeo": [
           {
            "marker": {
             "colorbar": {
              "outlinewidth": 0,
              "ticks": ""
             }
            },
            "type": "scattergeo"
           }
          ],
          "scattergl": [
           {
            "marker": {
             "line": {
              "color": "#283442"
             }
            },
            "type": "scattergl"
           }
          ],
          "scattermapbox": [
           {
            "marker": {
             "colorbar": {
              "outlinewidth": 0,
              "ticks": ""
             }
            },
            "type": "scattermapbox"
           }
          ],
          "scatterpolar": [
           {
            "marker": {
             "colorbar": {
              "outlinewidth": 0,
              "ticks": ""
             }
            },
            "type": "scatterpolar"
           }
          ],
          "scatterpolargl": [
           {
            "marker": {
             "colorbar": {
              "outlinewidth": 0,
              "ticks": ""
             }
            },
            "type": "scatterpolargl"
           }
          ],
          "scatterternary": [
           {
            "marker": {
             "colorbar": {
              "outlinewidth": 0,
              "ticks": ""
             }
            },
            "type": "scatterternary"
           }
          ],
          "surface": [
           {
            "colorbar": {
             "outlinewidth": 0,
             "ticks": ""
            },
            "colorscale": [
             [
              0,
              "#0d0887"
             ],
             [
              0.1111111111111111,
              "#46039f"
             ],
             [
              0.2222222222222222,
              "#7201a8"
             ],
             [
              0.3333333333333333,
              "#9c179e"
             ],
             [
              0.4444444444444444,
              "#bd3786"
             ],
             [
              0.5555555555555556,
              "#d8576b"
             ],
             [
              0.6666666666666666,
              "#ed7953"
             ],
             [
              0.7777777777777778,
              "#fb9f3a"
             ],
             [
              0.8888888888888888,
              "#fdca26"
             ],
             [
              1,
              "#f0f921"
             ]
            ],
            "type": "surface"
           }
          ],
          "table": [
           {
            "cells": {
             "fill": {
              "color": "#506784"
             },
             "line": {
              "color": "rgb(17,17,17)"
             }
            },
            "header": {
             "fill": {
              "color": "#2a3f5f"
             },
             "line": {
              "color": "rgb(17,17,17)"
             }
            },
            "type": "table"
           }
          ]
         },
         "layout": {
          "annotationdefaults": {
           "arrowcolor": "#f2f5fa",
           "arrowhead": 0,
           "arrowwidth": 1
          },
          "autotypenumbers": "strict",
          "coloraxis": {
           "colorbar": {
            "outlinewidth": 0,
            "ticks": ""
           }
          },
          "colorscale": {
           "diverging": [
            [
             0,
             "#8e0152"
            ],
            [
             0.1,
             "#c51b7d"
            ],
            [
             0.2,
             "#de77ae"
            ],
            [
             0.3,
             "#f1b6da"
            ],
            [
             0.4,
             "#fde0ef"
            ],
            [
             0.5,
             "#f7f7f7"
            ],
            [
             0.6,
             "#e6f5d0"
            ],
            [
             0.7,
             "#b8e186"
            ],
            [
             0.8,
             "#7fbc41"
            ],
            [
             0.9,
             "#4d9221"
            ],
            [
             1,
             "#276419"
            ]
           ],
           "sequential": [
            [
             0,
             "#0d0887"
            ],
            [
             0.1111111111111111,
             "#46039f"
            ],
            [
             0.2222222222222222,
             "#7201a8"
            ],
            [
             0.3333333333333333,
             "#9c179e"
            ],
            [
             0.4444444444444444,
             "#bd3786"
            ],
            [
             0.5555555555555556,
             "#d8576b"
            ],
            [
             0.6666666666666666,
             "#ed7953"
            ],
            [
             0.7777777777777778,
             "#fb9f3a"
            ],
            [
             0.8888888888888888,
             "#fdca26"
            ],
            [
             1,
             "#f0f921"
            ]
           ],
           "sequentialminus": [
            [
             0,
             "#0d0887"
            ],
            [
             0.1111111111111111,
             "#46039f"
            ],
            [
             0.2222222222222222,
             "#7201a8"
            ],
            [
             0.3333333333333333,
             "#9c179e"
            ],
            [
             0.4444444444444444,
             "#bd3786"
            ],
            [
             0.5555555555555556,
             "#d8576b"
            ],
            [
             0.6666666666666666,
             "#ed7953"
            ],
            [
             0.7777777777777778,
             "#fb9f3a"
            ],
            [
             0.8888888888888888,
             "#fdca26"
            ],
            [
             1,
             "#f0f921"
            ]
           ]
          },
          "colorway": [
           "#636efa",
           "#EF553B",
           "#00cc96",
           "#ab63fa",
           "#FFA15A",
           "#19d3f3",
           "#FF6692",
           "#B6E880",
           "#FF97FF",
           "#FECB52"
          ],
          "font": {
           "color": "#f2f5fa"
          },
          "geo": {
           "bgcolor": "rgb(17,17,17)",
           "lakecolor": "rgb(17,17,17)",
           "landcolor": "rgb(17,17,17)",
           "showlakes": true,
           "showland": true,
           "subunitcolor": "#506784"
          },
          "hoverlabel": {
           "align": "left"
          },
          "hovermode": "closest",
          "mapbox": {
           "style": "dark"
          },
          "paper_bgcolor": "rgb(17,17,17)",
          "plot_bgcolor": "rgb(17,17,17)",
          "polar": {
           "angularaxis": {
            "gridcolor": "#506784",
            "linecolor": "#506784",
            "ticks": ""
           },
           "bgcolor": "rgb(17,17,17)",
           "radialaxis": {
            "gridcolor": "#506784",
            "linecolor": "#506784",
            "ticks": ""
           }
          },
          "scene": {
           "xaxis": {
            "backgroundcolor": "rgb(17,17,17)",
            "gridcolor": "#506784",
            "gridwidth": 2,
            "linecolor": "#506784",
            "showbackground": true,
            "ticks": "",
            "zerolinecolor": "#C8D4E3"
           },
           "yaxis": {
            "backgroundcolor": "rgb(17,17,17)",
            "gridcolor": "#506784",
            "gridwidth": 2,
            "linecolor": "#506784",
            "showbackground": true,
            "ticks": "",
            "zerolinecolor": "#C8D4E3"
           },
           "zaxis": {
            "backgroundcolor": "rgb(17,17,17)",
            "gridcolor": "#506784",
            "gridwidth": 2,
            "linecolor": "#506784",
            "showbackground": true,
            "ticks": "",
            "zerolinecolor": "#C8D4E3"
           }
          },
          "shapedefaults": {
           "line": {
            "color": "#f2f5fa"
           }
          },
          "sliderdefaults": {
           "bgcolor": "#C8D4E3",
           "bordercolor": "rgb(17,17,17)",
           "borderwidth": 1,
           "tickwidth": 0
          },
          "ternary": {
           "aaxis": {
            "gridcolor": "#506784",
            "linecolor": "#506784",
            "ticks": ""
           },
           "baxis": {
            "gridcolor": "#506784",
            "linecolor": "#506784",
            "ticks": ""
           },
           "bgcolor": "rgb(17,17,17)",
           "caxis": {
            "gridcolor": "#506784",
            "linecolor": "#506784",
            "ticks": ""
           }
          },
          "title": {
           "x": 0.05
          },
          "updatemenudefaults": {
           "bgcolor": "#506784",
           "borderwidth": 0
          },
          "xaxis": {
           "automargin": true,
           "gridcolor": "#283442",
           "linecolor": "#506784",
           "ticks": "",
           "title": {
            "standoff": 15
           },
           "zerolinecolor": "#283442",
           "zerolinewidth": 2
          },
          "yaxis": {
           "automargin": true,
           "gridcolor": "#283442",
           "linecolor": "#506784",
           "ticks": "",
           "title": {
            "standoff": 15
           },
           "zerolinecolor": "#283442",
           "zerolinewidth": 2
          }
         }
        },
        "width": 700
       }
      },
      "text/html": [
       "<div>                            <div id=\"4cdec67a-5b7e-4bf7-9950-8b0ecf10c709\" class=\"plotly-graph-div\" style=\"height:525px; width:700px;\"></div>            <script type=\"text/javascript\">                require([\"plotly\"], function(Plotly) {                    window.PLOTLYENV=window.PLOTLYENV || {};                                    if (document.getElementById(\"4cdec67a-5b7e-4bf7-9950-8b0ecf10c709\")) {                    Plotly.newPlot(                        \"4cdec67a-5b7e-4bf7-9950-8b0ecf10c709\",                        [{\"hovertemplate\":\"x=%{x}<br>y=%{y}<br>z=%{z}<extra></extra>\",\"legendgroup\":\"\",\"marker\":{\"color\":\"#636efa\",\"symbol\":\"circle\"},\"mode\":\"markers\",\"name\":\"\",\"scene\":\"scene\",\"showlegend\":false,\"x\":[54.23700766694173,54.240670182045534,54.23563350236836,54.238381831515014,7.2048673232012455,54.238381831515014,7.203493158627917,7.2048673232012455,-40.76641472174547,-40.7677888863188,1.2228939008131374,-40.7677888863188,-40.76641472174547,1.2228939008131374,-40.76687470036161,5.209715090373478,3.2139236399209206,-40.76641472174547,-40.76412637121495,5.211089254946806,-27.746917323963924,-40.76641472174547,-19.749549897804272,4.212506447433863,54.238381831515014,7.20715567373176,54.23700766694168,1.2228939008131374,5.212463419520135,1.2228939008131374,7.203493158627917,54.238381831515014,22.25981548541437,20.275381600840838,1.2228939008131374,1.2228939008131374,5.213837584093462,-24.74933475823562,1.218317199752104,54.238381831515014,-40.76641472174547,7.2048673232012455,54.240670182045534,54.240670182045534,5.213837584093462,5.21612593462398,1.227470601874171,4.21388061200719,-3.705817319100144,-19.747261547273755,54.240670182045534,1.2215197362398091,54.238381831515014,54.24387271853324,54.238381831515014,5.212463419520135,4.21388061200719,-40.76641472174547,-40.76641472174547,54.238381831515014,-40.76641472174547,1.2228939008131374,54.238381831515014,-40.7677888863188,5.213837584093462,-40.7677888863188,5.213837584093462,54.238381831515014,-40.76641472174547,-40.7677888863188,5.213837584093462,32.26598106081132,-40.76641472174547,5.213837584093462,1.2160288492215876,1.2228939008131374,-40.7677888863188,-40.7677888863188,5.213837584093462,-40.76641472174547,1.2206055502826207,-9.749980176941564,-40.7677888863188,5.213837584093462,46.28314708014863,-40.76641472174547,-40.76641472174547,-19.749549897804272,1.2160288492215876,53.23842485942873,3.2139236399209206,1.2228939008131374,-40.7677888863188,-40.76641472174547,-40.76641472174547,1.2215197362398091,-40.7677888863188,-40.76641472174547,-40.76641472174547,7.196628107036367],\"y\":[0.6287598152463595,0.7698490332557332,0.5753359814263366,0.6821836490663856,-2.868283479343867,0.6821836490663856,-2.9217073131638926,-2.868283479343867,0.5530832469866204,0.4996594131665951,-0.8242663330285602,0.4996594131665951,0.5530832469866204,-0.8242663330285602,0.5339009635359167,-2.0156577155144313,-1.8371635983180723,0.5530832469866204,0.640748631175967,-1.962233881694406,2.5116509279965813,0.5530832469866204,2.351095080862102,-1.8996987400062393,0.6821836490663856,-2.7806180951545207,0.6287598152463604,-0.8242663330285602,-1.9088100478743808,-0.8242663330285602,-2.9217073131638926,0.6821836490663856,3.050760184142724,4.970666714796118,-0.8242663330285602,-0.8242663330285602,-1.8553862140543556,2.39665162020281,-0.9995971014072538,0.6821836490663856,0.5530832469866204,-2.868283479343867,0.7698490332557324,0.7698490332557324,-1.8553862140543556,-1.767720829865009,-0.6489355646498668,-1.8462749061862143,7.178687402737976,2.4387604650514483,0.7698490332557324,-0.8776901668485855,0.6821836490663856,0.8917559678144004,0.6821836490663856,-1.9088100478743808,-1.8462749061862143,0.5530832469866204,0.5530832469866204,0.6821836490663856,0.5530832469866204,-0.8242663330285602,0.6821836490663856,0.4996594131665951,-1.8553862140543556,0.4996594131665951,-1.8553862140543556,0.6821836490663856,0.5530832469866204,0.4996594131665951,-1.8553862140543556,3.866656370825188,0.5530832469866204,-1.8553862140543556,-1.0872624855966004,-0.8242663330285602,0.4996594131665951,0.4996594131665951,-1.8553862140543556,0.5530832469866204,-0.9119317172179071,2.259982002180684,0.4996594131665951,-1.8553862140543556,5.728447359777662,0.5530832469866204,0.5530832469866204,2.351095080862102,-1.0872624855966004,0.6912949569345271,-1.8371635983180723,-0.8242663330285602,0.4996594131665951,0.5530832469866204,0.5530832469866204,-0.8776901668485855,0.49965941316659507,0.5530832469866203,0.5530832469866203,-3.184703465731933],\"z\":[0.1284276254620871,-0.7455856317290648,0.012495789306765011,0.244359461617409,-0.14492848769887323,0.244359461617409,-0.2608603238541953,-0.14492848769887323,0.031639325952475476,-0.08429251020284653,0.008823650612025141,-0.08429251020284653,0.031639325952475476,0.008823650612025141,-1.1901694397046434,-0.41446176306541577,-0.06943858248739838,0.031639325952475476,-0.9583057673939994,-0.2985299269100938,-0.7782165141475887,0.031639325952475476,0.22281789075068079,-0.1839842546987461,0.244359461617409,-1.1348735810453483,0.128427625462087,0.008823650612025141,-0.18259809075477174,0.008823650612025141,-0.2608603238541953,0.244359461617409,-0.6278737559615001,0.5213681314717705,0.008823650612025141,0.008823650612025141,-0.06666625459944972,0.21588707103080915,1.9887138373049753,0.244359461617409,0.031639325952475476,-0.14492848769887323,-0.745585631729066,-0.745585631729066,-0.06666625459944972,-1.0566113479459247,-1.9710665360809245,-0.06805241854342409,0.650169318791131,-0.7671272025957941,-0.745585631729066,-0.10710818554329689,0.244359461617409,-2.8414076545773375,0.244359461617409,-0.18259809075477174,-0.06805241854342409,0.031639325952475476,0.031639325952475476,0.244359461617409,0.031639325952475476,0.008823650612025141,0.244359461617409,-0.08429251020284653,-0.06666625459944972,-0.08429251020284653,-0.06666625459944972,0.244359461617409,0.031639325952475476,-0.08429251020284653,-0.06666625459944972,0.45696753781209026,0.031639325952475476,-0.06666625459944972,2.9786589306514504,0.008823650612025141,-0.08429251020284653,-0.08429251020284653,-0.06666625459944972,0.031639325952475476,0.9987687439585002,0.23667953019042406,-0.08429251020284653,-0.06666625459944972,0.6384429550024754,0.031639325952475476,0.031639325952475476,0.22281789075068079,2.9786589306514504,0.24297329767343462,-0.06943858248739838,0.008823650612025141,-0.08429251020284653,0.031639325952475476,0.031639325952475476,-0.10710818554329689,-0.08429251020284655,0.03163932595247547,0.03163932595247547,2.7089749561852297],\"type\":\"scatter3d\"}],                        {\"template\":{\"data\":{\"histogram2dcontour\":[{\"type\":\"histogram2dcontour\",\"colorbar\":{\"outlinewidth\":0,\"ticks\":\"\"},\"colorscale\":[[0.0,\"#0d0887\"],[0.1111111111111111,\"#46039f\"],[0.2222222222222222,\"#7201a8\"],[0.3333333333333333,\"#9c179e\"],[0.4444444444444444,\"#bd3786\"],[0.5555555555555556,\"#d8576b\"],[0.6666666666666666,\"#ed7953\"],[0.7777777777777778,\"#fb9f3a\"],[0.8888888888888888,\"#fdca26\"],[1.0,\"#f0f921\"]]}],\"choropleth\":[{\"type\":\"choropleth\",\"colorbar\":{\"outlinewidth\":0,\"ticks\":\"\"}}],\"histogram2d\":[{\"type\":\"histogram2d\",\"colorbar\":{\"outlinewidth\":0,\"ticks\":\"\"},\"colorscale\":[[0.0,\"#0d0887\"],[0.1111111111111111,\"#46039f\"],[0.2222222222222222,\"#7201a8\"],[0.3333333333333333,\"#9c179e\"],[0.4444444444444444,\"#bd3786\"],[0.5555555555555556,\"#d8576b\"],[0.6666666666666666,\"#ed7953\"],[0.7777777777777778,\"#fb9f3a\"],[0.8888888888888888,\"#fdca26\"],[1.0,\"#f0f921\"]]}],\"heatmap\":[{\"type\":\"heatmap\",\"colorbar\":{\"outlinewidth\":0,\"ticks\":\"\"},\"colorscale\":[[0.0,\"#0d0887\"],[0.1111111111111111,\"#46039f\"],[0.2222222222222222,\"#7201a8\"],[0.3333333333333333,\"#9c179e\"],[0.4444444444444444,\"#bd3786\"],[0.5555555555555556,\"#d8576b\"],[0.6666666666666666,\"#ed7953\"],[0.7777777777777778,\"#fb9f3a\"],[0.8888888888888888,\"#fdca26\"],[1.0,\"#f0f921\"]]}],\"heatmapgl\":[{\"type\":\"heatmapgl\",\"colorbar\":{\"outlinewidth\":0,\"ticks\":\"\"},\"colorscale\":[[0.0,\"#0d0887\"],[0.1111111111111111,\"#46039f\"],[0.2222222222222222,\"#7201a8\"],[0.3333333333333333,\"#9c179e\"],[0.4444444444444444,\"#bd3786\"],[0.5555555555555556,\"#d8576b\"],[0.6666666666666666,\"#ed7953\"],[0.7777777777777778,\"#fb9f3a\"],[0.8888888888888888,\"#fdca26\"],[1.0,\"#f0f921\"]]}],\"contourcarpet\":[{\"type\":\"contourcarpet\",\"colorbar\":{\"outlinewidth\":0,\"ticks\":\"\"}}],\"contour\":[{\"type\":\"contour\",\"colorbar\":{\"outlinewidth\":0,\"ticks\":\"\"},\"colorscale\":[[0.0,\"#0d0887\"],[0.1111111111111111,\"#46039f\"],[0.2222222222222222,\"#7201a8\"],[0.3333333333333333,\"#9c179e\"],[0.4444444444444444,\"#bd3786\"],[0.5555555555555556,\"#d8576b\"],[0.6666666666666666,\"#ed7953\"],[0.7777777777777778,\"#fb9f3a\"],[0.8888888888888888,\"#fdca26\"],[1.0,\"#f0f921\"]]}],\"surface\":[{\"type\":\"surface\",\"colorbar\":{\"outlinewidth\":0,\"ticks\":\"\"},\"colorscale\":[[0.0,\"#0d0887\"],[0.1111111111111111,\"#46039f\"],[0.2222222222222222,\"#7201a8\"],[0.3333333333333333,\"#9c179e\"],[0.4444444444444444,\"#bd3786\"],[0.5555555555555556,\"#d8576b\"],[0.6666666666666666,\"#ed7953\"],[0.7777777777777778,\"#fb9f3a\"],[0.8888888888888888,\"#fdca26\"],[1.0,\"#f0f921\"]]}],\"mesh3d\":[{\"type\":\"mesh3d\",\"colorbar\":{\"outlinewidth\":0,\"ticks\":\"\"}}],\"scatter\":[{\"marker\":{\"line\":{\"color\":\"#283442\"}},\"type\":\"scatter\"}],\"parcoords\":[{\"type\":\"parcoords\",\"line\":{\"colorbar\":{\"outlinewidth\":0,\"ticks\":\"\"}}}],\"scatterpolargl\":[{\"type\":\"scatterpolargl\",\"marker\":{\"colorbar\":{\"outlinewidth\":0,\"ticks\":\"\"}}}],\"bar\":[{\"error_x\":{\"color\":\"#f2f5fa\"},\"error_y\":{\"color\":\"#f2f5fa\"},\"marker\":{\"line\":{\"color\":\"rgb(17,17,17)\",\"width\":0.5},\"pattern\":{\"fillmode\":\"overlay\",\"size\":10,\"solidity\":0.2}},\"type\":\"bar\"}],\"scattergeo\":[{\"type\":\"scattergeo\",\"marker\":{\"colorbar\":{\"outlinewidth\":0,\"ticks\":\"\"}}}],\"scatterpolar\":[{\"type\":\"scatterpolar\",\"marker\":{\"colorbar\":{\"outlinewidth\":0,\"ticks\":\"\"}}}],\"histogram\":[{\"marker\":{\"pattern\":{\"fillmode\":\"overlay\",\"size\":10,\"solidity\":0.2}},\"type\":\"histogram\"}],\"scattergl\":[{\"marker\":{\"line\":{\"color\":\"#283442\"}},\"type\":\"scattergl\"}],\"scatter3d\":[{\"type\":\"scatter3d\",\"line\":{\"colorbar\":{\"outlinewidth\":0,\"ticks\":\"\"}},\"marker\":{\"colorbar\":{\"outlinewidth\":0,\"ticks\":\"\"}}}],\"scattermapbox\":[{\"type\":\"scattermapbox\",\"marker\":{\"colorbar\":{\"outlinewidth\":0,\"ticks\":\"\"}}}],\"scatterternary\":[{\"type\":\"scatterternary\",\"marker\":{\"colorbar\":{\"outlinewidth\":0,\"ticks\":\"\"}}}],\"scattercarpet\":[{\"type\":\"scattercarpet\",\"marker\":{\"colorbar\":{\"outlinewidth\":0,\"ticks\":\"\"}}}],\"carpet\":[{\"aaxis\":{\"endlinecolor\":\"#A2B1C6\",\"gridcolor\":\"#506784\",\"linecolor\":\"#506784\",\"minorgridcolor\":\"#506784\",\"startlinecolor\":\"#A2B1C6\"},\"baxis\":{\"endlinecolor\":\"#A2B1C6\",\"gridcolor\":\"#506784\",\"linecolor\":\"#506784\",\"minorgridcolor\":\"#506784\",\"startlinecolor\":\"#A2B1C6\"},\"type\":\"carpet\"}],\"table\":[{\"cells\":{\"fill\":{\"color\":\"#506784\"},\"line\":{\"color\":\"rgb(17,17,17)\"}},\"header\":{\"fill\":{\"color\":\"#2a3f5f\"},\"line\":{\"color\":\"rgb(17,17,17)\"}},\"type\":\"table\"}],\"barpolar\":[{\"marker\":{\"line\":{\"color\":\"rgb(17,17,17)\",\"width\":0.5},\"pattern\":{\"fillmode\":\"overlay\",\"size\":10,\"solidity\":0.2}},\"type\":\"barpolar\"}],\"pie\":[{\"automargin\":true,\"type\":\"pie\"}]},\"layout\":{\"autotypenumbers\":\"strict\",\"colorway\":[\"#636efa\",\"#EF553B\",\"#00cc96\",\"#ab63fa\",\"#FFA15A\",\"#19d3f3\",\"#FF6692\",\"#B6E880\",\"#FF97FF\",\"#FECB52\"],\"font\":{\"color\":\"#f2f5fa\"},\"hovermode\":\"closest\",\"hoverlabel\":{\"align\":\"left\"},\"paper_bgcolor\":\"rgb(17,17,17)\",\"plot_bgcolor\":\"rgb(17,17,17)\",\"polar\":{\"bgcolor\":\"rgb(17,17,17)\",\"angularaxis\":{\"gridcolor\":\"#506784\",\"linecolor\":\"#506784\",\"ticks\":\"\"},\"radialaxis\":{\"gridcolor\":\"#506784\",\"linecolor\":\"#506784\",\"ticks\":\"\"}},\"ternary\":{\"bgcolor\":\"rgb(17,17,17)\",\"aaxis\":{\"gridcolor\":\"#506784\",\"linecolor\":\"#506784\",\"ticks\":\"\"},\"baxis\":{\"gridcolor\":\"#506784\",\"linecolor\":\"#506784\",\"ticks\":\"\"},\"caxis\":{\"gridcolor\":\"#506784\",\"linecolor\":\"#506784\",\"ticks\":\"\"}},\"coloraxis\":{\"colorbar\":{\"outlinewidth\":0,\"ticks\":\"\"}},\"colorscale\":{\"sequential\":[[0.0,\"#0d0887\"],[0.1111111111111111,\"#46039f\"],[0.2222222222222222,\"#7201a8\"],[0.3333333333333333,\"#9c179e\"],[0.4444444444444444,\"#bd3786\"],[0.5555555555555556,\"#d8576b\"],[0.6666666666666666,\"#ed7953\"],[0.7777777777777778,\"#fb9f3a\"],[0.8888888888888888,\"#fdca26\"],[1.0,\"#f0f921\"]],\"sequentialminus\":[[0.0,\"#0d0887\"],[0.1111111111111111,\"#46039f\"],[0.2222222222222222,\"#7201a8\"],[0.3333333333333333,\"#9c179e\"],[0.4444444444444444,\"#bd3786\"],[0.5555555555555556,\"#d8576b\"],[0.6666666666666666,\"#ed7953\"],[0.7777777777777778,\"#fb9f3a\"],[0.8888888888888888,\"#fdca26\"],[1.0,\"#f0f921\"]],\"diverging\":[[0,\"#8e0152\"],[0.1,\"#c51b7d\"],[0.2,\"#de77ae\"],[0.3,\"#f1b6da\"],[0.4,\"#fde0ef\"],[0.5,\"#f7f7f7\"],[0.6,\"#e6f5d0\"],[0.7,\"#b8e186\"],[0.8,\"#7fbc41\"],[0.9,\"#4d9221\"],[1,\"#276419\"]]},\"xaxis\":{\"gridcolor\":\"#283442\",\"linecolor\":\"#506784\",\"ticks\":\"\",\"title\":{\"standoff\":15},\"zerolinecolor\":\"#283442\",\"automargin\":true,\"zerolinewidth\":2},\"yaxis\":{\"gridcolor\":\"#283442\",\"linecolor\":\"#506784\",\"ticks\":\"\",\"title\":{\"standoff\":15},\"zerolinecolor\":\"#283442\",\"automargin\":true,\"zerolinewidth\":2},\"scene\":{\"xaxis\":{\"backgroundcolor\":\"rgb(17,17,17)\",\"gridcolor\":\"#506784\",\"linecolor\":\"#506784\",\"showbackground\":true,\"ticks\":\"\",\"zerolinecolor\":\"#C8D4E3\",\"gridwidth\":2},\"yaxis\":{\"backgroundcolor\":\"rgb(17,17,17)\",\"gridcolor\":\"#506784\",\"linecolor\":\"#506784\",\"showbackground\":true,\"ticks\":\"\",\"zerolinecolor\":\"#C8D4E3\",\"gridwidth\":2},\"zaxis\":{\"backgroundcolor\":\"rgb(17,17,17)\",\"gridcolor\":\"#506784\",\"linecolor\":\"#506784\",\"showbackground\":true,\"ticks\":\"\",\"zerolinecolor\":\"#C8D4E3\",\"gridwidth\":2}},\"shapedefaults\":{\"line\":{\"color\":\"#f2f5fa\"}},\"annotationdefaults\":{\"arrowcolor\":\"#f2f5fa\",\"arrowhead\":0,\"arrowwidth\":1},\"geo\":{\"bgcolor\":\"rgb(17,17,17)\",\"landcolor\":\"rgb(17,17,17)\",\"subunitcolor\":\"#506784\",\"showland\":true,\"showlakes\":true,\"lakecolor\":\"rgb(17,17,17)\"},\"title\":{\"x\":0.05},\"updatemenudefaults\":{\"bgcolor\":\"#506784\",\"borderwidth\":0},\"sliderdefaults\":{\"bgcolor\":\"#C8D4E3\",\"borderwidth\":1,\"bordercolor\":\"rgb(17,17,17)\",\"tickwidth\":0},\"mapbox\":{\"style\":\"dark\"}}},\"scene\":{\"domain\":{\"x\":[0.0,1.0],\"y\":[0.0,1.0]},\"xaxis\":{\"title\":{\"text\":\"x\"}},\"yaxis\":{\"title\":{\"text\":\"y\"}},\"zaxis\":{\"title\":{\"text\":\"z\"}}},\"legend\":{\"tracegroupgap\":0},\"margin\":{\"t\":60},\"width\":700},                        {\"responsive\": true}                    ).then(function(){\n",
       "                            \n",
       "var gd = document.getElementById('4cdec67a-5b7e-4bf7-9950-8b0ecf10c709');\n",
       "var x = new MutationObserver(function (mutations, observer) {{\n",
       "        var display = window.getComputedStyle(gd).display;\n",
       "        if (!display || display === 'none') {{\n",
       "            console.log([gd, 'removed!']);\n",
       "            Plotly.purge(gd);\n",
       "            observer.disconnect();\n",
       "        }}\n",
       "}});\n",
       "\n",
       "// Listen for the removal of the full notebook cells\n",
       "var notebookContainer = gd.closest('#notebook-container');\n",
       "if (notebookContainer) {{\n",
       "    x.observe(notebookContainer, {childList: true});\n",
       "}}\n",
       "\n",
       "// Listen for the clearing of the current output cell\n",
       "var outputEl = gd.closest('.output');\n",
       "if (outputEl) {{\n",
       "    x.observe(outputEl, {childList: true});\n",
       "}}\n",
       "\n",
       "                        })                };                });            </script>        </div>"
      ]
     },
     "metadata": {},
     "output_type": "display_data"
    }
   ],
   "source": [
    "pca3 = PCA(n_components=3)                   # оставим только два признака\n",
    "# новые признаки -- это линейная комбинация старых\n",
    "# они неинтерпретируемы, но позволяют оценить число кластеров\n",
    "X3 = pca3.fit_transform( df.values )\n",
    "\n",
    "print(f\"3 compomemt - explained variance {np.sum(pca.explained_variance_ratio_):.3f}\")\n",
    "\n",
    "fig = px.scatter_3d( x=X3[:,0], y=X3[:,1], z=X3[:,2], width=700)\n",
    "fig.show()"
   ]
  },
  {
   "cell_type": "code",
   "execution_count": 190,
   "metadata": {
    "collapsed": false,
    "pycharm": {
     "name": "#%%\n"
    }
   },
   "outputs": [
    {
     "name": "stderr",
     "output_type": "stream",
     "text": [
      "C:\\Users\\aveoc\\.virtualenvs\\clustering_hackatone-IBb2UeHh\\lib\\site-packages\\sklearn\\cluster\\_kmeans.py:1318: FutureWarning:\n",
      "\n",
      "algorithm='full' is deprecated, it will be removed in 1.3. Using 'lloyd' instead.\n",
      "\n"
     ]
    },
    {
     "data": {
      "text/plain": [
       "array([1, 1, 1, 1, 0, 1, 0, 0, 2, 2, 0, 2, 2, 0, 2, 0, 0, 2, 2, 0, 3, 2,\n",
       "       3, 0, 1, 0, 1, 0, 0, 0, 0, 1, 4, 4, 0, 0, 0, 3, 0, 1, 2, 0, 1, 1,\n",
       "       0, 0, 0, 0, 0, 3, 1, 0, 1, 1, 1, 0, 0, 2, 2, 1, 2, 0, 1, 2, 0, 2,\n",
       "       0, 1, 2, 2, 0, 4, 2, 0, 0, 0, 2, 2, 0, 2, 0, 3, 2, 0, 1, 2, 2, 3,\n",
       "       0, 1, 0, 0, 2, 2, 2, 0, 2, 2, 2, 0])"
      ]
     },
     "execution_count": 190,
     "metadata": {},
     "output_type": "execute_result"
    }
   ],
   "source": [
    "km = KMeans (n_clusters= 5, random_state=42, algorithm=\"full\")\n",
    "km.fit(df.values)\n",
    "km.predict(df.values)"
   ]
  },
  {
   "cell_type": "code",
   "execution_count": 191,
   "metadata": {
    "collapsed": false,
    "pycharm": {
     "name": "#%%\n"
    }
   },
   "outputs": [
    {
     "name": "stderr",
     "output_type": "stream",
     "text": [
      "C:\\Users\\aveoc\\.virtualenvs\\clustering_hackatone-IBb2UeHh\\lib\\site-packages\\sklearn\\cluster\\_kmeans.py:379: ConvergenceWarning:\n",
      "\n",
      "Number of distinct clusters (3) found smaller than n_clusters (5). Possibly due to duplicate points in X.\n",
      "\n"
     ]
    },
    {
     "data": {
      "text/plain": [
       "array([0, 0, 0, 0, 0, 0, 0, 0, 0, 0, 0, 0, 0, 0, 0, 0, 0, 0, 0, 0, 0, 0,\n",
       "       0, 0, 0, 0, 0, 0, 0, 0, 0, 0, 0, 0, 0, 0, 0, 0, 0, 0, 0, 0, 0, 0,\n",
       "       0, 0, 0, 0, 1, 0, 0, 0, 0, 0, 0, 0, 0, 0, 0, 0, 0, 0, 0, 0, 0, 0,\n",
       "       0, 0, 0, 0, 0, 2, 0, 0, 0, 0, 0, 0, 0, 0, 0, 1, 0, 0, 0, 0, 0, 0,\n",
       "       0, 0, 0, 0, 0, 0, 0, 0, 0, 0, 0, 0])"
      ]
     },
     "execution_count": 191,
     "metadata": {},
     "output_type": "execute_result"
    }
   ],
   "source": [
    "from sklearn.cluster import SpectralClustering\n",
    "\n",
    "sc = SpectralClustering(n_clusters=5, random_state=42)\n",
    "sc.fit_predict(df.values)"
   ]
  },
  {
   "cell_type": "code",
   "execution_count": 192,
   "metadata": {
    "collapsed": false,
    "pycharm": {
     "name": "#%%\n"
    }
   },
   "outputs": [
    {
     "data": {
      "text/html": [
       "<div>\n",
       "<style scoped>\n",
       "    .dataframe tbody tr th:only-of-type {\n",
       "        vertical-align: middle;\n",
       "    }\n",
       "\n",
       "    .dataframe tbody tr th {\n",
       "        vertical-align: top;\n",
       "    }\n",
       "\n",
       "    .dataframe thead th {\n",
       "        text-align: right;\n",
       "    }\n",
       "</style>\n",
       "<table border=\"1\" class=\"dataframe\">\n",
       "  <thead>\n",
       "    <tr style=\"text-align: right;\">\n",
       "      <th></th>\n",
       "      <th>okved</th>\n",
       "      <th>region</th>\n",
       "      <th>section</th>\n",
       "      <th>count</th>\n",
       "    </tr>\n",
       "  </thead>\n",
       "  <tbody>\n",
       "    <tr>\n",
       "      <th>0</th>\n",
       "      <td>96</td>\n",
       "      <td>3</td>\n",
       "      <td>6</td>\n",
       "      <td>2</td>\n",
       "    </tr>\n",
       "    <tr>\n",
       "      <th>1</th>\n",
       "      <td>96</td>\n",
       "      <td>2</td>\n",
       "      <td>6</td>\n",
       "      <td>1</td>\n",
       "    </tr>\n",
       "    <tr>\n",
       "      <th>2</th>\n",
       "      <td>96</td>\n",
       "      <td>3</td>\n",
       "      <td>6</td>\n",
       "      <td>3</td>\n",
       "    </tr>\n",
       "    <tr>\n",
       "      <th>3</th>\n",
       "      <td>96</td>\n",
       "      <td>3</td>\n",
       "      <td>6</td>\n",
       "      <td>1</td>\n",
       "    </tr>\n",
       "    <tr>\n",
       "      <th>4</th>\n",
       "      <td>49</td>\n",
       "      <td>3</td>\n",
       "      <td>10</td>\n",
       "      <td>1</td>\n",
       "    </tr>\n",
       "    <tr>\n",
       "      <th>...</th>\n",
       "      <td>...</td>\n",
       "      <td>...</td>\n",
       "      <td>...</td>\n",
       "      <td>...</td>\n",
       "    </tr>\n",
       "    <tr>\n",
       "      <th>95</th>\n",
       "      <td>43</td>\n",
       "      <td>3</td>\n",
       "      <td>8</td>\n",
       "      <td>2</td>\n",
       "    </tr>\n",
       "    <tr>\n",
       "      <th>96</th>\n",
       "      <td>1</td>\n",
       "      <td>3</td>\n",
       "      <td>7</td>\n",
       "      <td>2</td>\n",
       "    </tr>\n",
       "    <tr>\n",
       "      <th>97</th>\n",
       "      <td>1</td>\n",
       "      <td>3</td>\n",
       "      <td>7</td>\n",
       "      <td>1</td>\n",
       "    </tr>\n",
       "    <tr>\n",
       "      <th>98</th>\n",
       "      <td>1</td>\n",
       "      <td>3</td>\n",
       "      <td>7</td>\n",
       "      <td>1</td>\n",
       "    </tr>\n",
       "    <tr>\n",
       "      <th>99</th>\n",
       "      <td>49</td>\n",
       "      <td>6</td>\n",
       "      <td>10</td>\n",
       "      <td>2</td>\n",
       "    </tr>\n",
       "  </tbody>\n",
       "</table>\n",
       "<p>100 rows × 4 columns</p>\n",
       "</div>"
      ],
      "text/plain": [
       "    okved  region  section  count\n",
       "0      96       3        6      2\n",
       "1      96       2        6      1\n",
       "2      96       3        6      3\n",
       "3      96       3        6      1\n",
       "4      49       3       10      1\n",
       "..    ...     ...      ...    ...\n",
       "95     43       3        8      2\n",
       "96      1       3        7      2\n",
       "97      1       3        7      1\n",
       "98      1       3        7      1\n",
       "99     49       6       10      2\n",
       "\n",
       "[100 rows x 4 columns]"
      ]
     },
     "execution_count": 192,
     "metadata": {},
     "output_type": "execute_result"
    }
   ],
   "source": [
    "df"
   ]
  },
  {
   "cell_type": "code",
   "execution_count": 193,
   "metadata": {
    "collapsed": false,
    "pycharm": {
     "name": "#%%\n"
    }
   },
   "outputs": [
    {
     "name": "stderr",
     "output_type": "stream",
     "text": [
      "C:\\Users\\aveoc\\.virtualenvs\\clustering_hackatone-IBb2UeHh\\lib\\site-packages\\sklearn\\cluster\\_kmeans.py:379: ConvergenceWarning:\n",
      "\n",
      "Number of distinct clusters (3) found smaller than n_clusters (5). Possibly due to duplicate points in X.\n",
      "\n"
     ]
    },
    {
     "data": {
      "text/plain": [
       "array([0, 0, 0, 0, 0, 0, 0, 0, 0, 0, 0, 0, 0, 0, 0, 0, 0, 0, 0, 0, 0, 0,\n",
       "       0, 0, 0, 0, 0, 0, 0, 0, 0, 0, 0, 0, 0, 0, 0, 0, 0, 0, 0, 0, 0, 0,\n",
       "       0, 0, 0, 0, 1, 0, 0, 0, 0, 0, 0, 0, 0, 0, 0, 0, 0, 0, 0, 0, 0, 0,\n",
       "       0, 0, 0, 0, 0, 2, 0, 0, 0, 0, 0, 0, 0, 0, 0, 1, 0, 0, 0, 0, 0, 0,\n",
       "       0, 0, 0, 0, 0, 0, 0, 0, 0, 0, 0, 0])"
      ]
     },
     "execution_count": 193,
     "metadata": {},
     "output_type": "execute_result"
    }
   ],
   "source": [
    "sc.fit_predict(df.values)"
   ]
  },
  {
   "cell_type": "code",
   "execution_count": 194,
   "metadata": {
    "collapsed": false,
    "pycharm": {
     "name": "#%%\n"
    }
   },
   "outputs": [],
   "source": [
    "res = pd.read_csv(FILE + \"parsed_data.csv\")"
   ]
  },
  {
   "cell_type": "code",
   "execution_count": 119,
   "metadata": {
    "collapsed": false,
    "pycharm": {
     "name": "#%%\n"
    }
   },
   "outputs": [],
   "source": [
    "res.drop(\"Unnamed: 0\", axis=1, inplace=True)"
   ]
  },
  {
   "cell_type": "code",
   "execution_count": 250,
   "metadata": {
    "collapsed": false,
    "pycharm": {
     "name": "#%%\n"
    }
   },
   "outputs": [
    {
     "data": {
      "text/html": [
       "<div>\n",
       "<style scoped>\n",
       "    .dataframe tbody tr th:only-of-type {\n",
       "        vertical-align: middle;\n",
       "    }\n",
       "\n",
       "    .dataframe tbody tr th {\n",
       "        vertical-align: top;\n",
       "    }\n",
       "\n",
       "    .dataframe thead th {\n",
       "        text-align: right;\n",
       "    }\n",
       "</style>\n",
       "<table border=\"1\" class=\"dataframe\">\n",
       "  <thead>\n",
       "    <tr style=\"text-align: right;\">\n",
       "      <th></th>\n",
       "      <th>Unnamed: 0</th>\n",
       "      <th>INN</th>\n",
       "      <th>region</th>\n",
       "      <th>okved</th>\n",
       "      <th>start_date</th>\n",
       "      <th>end_date</th>\n",
       "      <th>business_count</th>\n",
       "    </tr>\n",
       "  </thead>\n",
       "  <tbody>\n",
       "    <tr>\n",
       "      <th>0</th>\n",
       "      <td>0</td>\n",
       "      <td>20502013704</td>\n",
       "      <td>Республика Башкортостан</td>\n",
       "      <td>96</td>\n",
       "      <td>2014-12-05</td>\n",
       "      <td>NaN</td>\n",
       "      <td>2</td>\n",
       "    </tr>\n",
       "    <tr>\n",
       "      <th>1</th>\n",
       "      <td>0</td>\n",
       "      <td>20201737037</td>\n",
       "      <td>Республика Башкортостан</td>\n",
       "      <td>96</td>\n",
       "      <td>2019-05-08</td>\n",
       "      <td>NaN</td>\n",
       "      <td>3</td>\n",
       "    </tr>\n",
       "    <tr>\n",
       "      <th>2</th>\n",
       "      <td>0</td>\n",
       "      <td>20103734461</td>\n",
       "      <td>Республика Башкортостан</td>\n",
       "      <td>96</td>\n",
       "      <td>2016-09-02</td>\n",
       "      <td>NaN</td>\n",
       "      <td>1</td>\n",
       "    </tr>\n",
       "    <tr>\n",
       "      <th>3</th>\n",
       "      <td>0</td>\n",
       "      <td>20201871427</td>\n",
       "      <td>Республика Башкортостан</td>\n",
       "      <td>49</td>\n",
       "      <td>2019-08-05</td>\n",
       "      <td>NaN</td>\n",
       "      <td>1</td>\n",
       "    </tr>\n",
       "    <tr>\n",
       "      <th>4</th>\n",
       "      <td>0</td>\n",
       "      <td>20503050018</td>\n",
       "      <td>Республика Башкортостан</td>\n",
       "      <td>96</td>\n",
       "      <td>2019-06-24</td>\n",
       "      <td>NaN</td>\n",
       "      <td>1</td>\n",
       "    </tr>\n",
       "    <tr>\n",
       "      <th>...</th>\n",
       "      <td>...</td>\n",
       "      <td>...</td>\n",
       "      <td>...</td>\n",
       "      <td>...</td>\n",
       "      <td>...</td>\n",
       "      <td>...</td>\n",
       "      <td>...</td>\n",
       "    </tr>\n",
       "    <tr>\n",
       "      <th>1175</th>\n",
       "      <td>0</td>\n",
       "      <td>70200801806</td>\n",
       "      <td>Брянская область</td>\n",
       "      <td>49</td>\n",
       "      <td>2021-06-08</td>\n",
       "      <td>NaN</td>\n",
       "      <td>1</td>\n",
       "    </tr>\n",
       "    <tr>\n",
       "      <th>1176</th>\n",
       "      <td>0</td>\n",
       "      <td>81408812403</td>\n",
       "      <td>Брянская область</td>\n",
       "      <td>47</td>\n",
       "      <td>2012-03-30</td>\n",
       "      <td>NaN</td>\n",
       "      <td>1</td>\n",
       "    </tr>\n",
       "    <tr>\n",
       "      <th>1177</th>\n",
       "      <td>0</td>\n",
       "      <td>90800464383</td>\n",
       "      <td>Брянская область</td>\n",
       "      <td>62</td>\n",
       "      <td>2019-04-17</td>\n",
       "      <td>NaN</td>\n",
       "      <td>2</td>\n",
       "    </tr>\n",
       "    <tr>\n",
       "      <th>1178</th>\n",
       "      <td>0</td>\n",
       "      <td>40702980677</td>\n",
       "      <td>Еврейская автономная область</td>\n",
       "      <td>47</td>\n",
       "      <td>2018-04-25</td>\n",
       "      <td>NaN</td>\n",
       "      <td>1</td>\n",
       "    </tr>\n",
       "    <tr>\n",
       "      <th>1179</th>\n",
       "      <td>0</td>\n",
       "      <td>31602722090</td>\n",
       "      <td>Республика Тыва</td>\n",
       "      <td>96</td>\n",
       "      <td>2015-06-16</td>\n",
       "      <td>NaN</td>\n",
       "      <td>2</td>\n",
       "    </tr>\n",
       "  </tbody>\n",
       "</table>\n",
       "<p>1180 rows × 7 columns</p>\n",
       "</div>"
      ],
      "text/plain": [
       "      Unnamed: 0          INN                        region  okved  \\\n",
       "0              0  20502013704       Республика Башкортостан     96   \n",
       "1              0  20201737037       Республика Башкортостан     96   \n",
       "2              0  20103734461       Республика Башкортостан     96   \n",
       "3              0  20201871427       Республика Башкортостан     49   \n",
       "4              0  20503050018       Республика Башкортостан     96   \n",
       "...          ...          ...                           ...    ...   \n",
       "1175           0  70200801806              Брянская область     49   \n",
       "1176           0  81408812403              Брянская область     47   \n",
       "1177           0  90800464383              Брянская область     62   \n",
       "1178           0  40702980677  Еврейская автономная область     47   \n",
       "1179           0  31602722090               Республика Тыва     96   \n",
       "\n",
       "      start_date end_date  business_count  \n",
       "0     2014-12-05      NaN               2  \n",
       "1     2019-05-08      NaN               3  \n",
       "2     2016-09-02      NaN               1  \n",
       "3     2019-08-05      NaN               1  \n",
       "4     2019-06-24      NaN               1  \n",
       "...          ...      ...             ...  \n",
       "1175  2021-06-08      NaN               1  \n",
       "1176  2012-03-30      NaN               1  \n",
       "1177  2019-04-17      NaN               2  \n",
       "1178  2018-04-25      NaN               1  \n",
       "1179  2015-06-16      NaN               2  \n",
       "\n",
       "[1180 rows x 7 columns]"
      ]
     },
     "execution_count": 250,
     "metadata": {},
     "output_type": "execute_result"
    }
   ],
   "source": [
    "res"
   ]
  },
  {
   "cell_type": "code",
   "execution_count": 256,
   "metadata": {
    "collapsed": false,
    "pycharm": {
     "name": "#%%\n"
    }
   },
   "outputs": [
    {
     "name": "stderr",
     "output_type": "stream",
     "text": [
      "100%|██████████| 1180/1180 [00:09<00:00, 120.81it/s]\n"
     ]
    }
   ],
   "source": [
    "from tqdm import tqdm\n",
    "\n",
    "# okved_region = pd.DataFrame(column=[\"region\", \"okved\", \"count\"])\n",
    "\n",
    "\n",
    "iteration = list()\n",
    "\n",
    "for region in tqdm(res[\"region\"]):\n",
    "    for okved in res[(res[\"region\"]==region)][\"okved\"]:\n",
    "        median = res[(res[\"region\"]==region) & (res[\"okved\"] == okved)][\"business_count\"].median()\n",
    "        iteration.append((region, okved, median))"
   ]
  },
  {
   "cell_type": "code",
   "execution_count": 260,
   "metadata": {
    "collapsed": false,
    "pycharm": {
     "name": "#%%\n"
    }
   },
   "outputs": [],
   "source": [
    "ex = pd.DataFrame(iteration, columns = [\"region\", \"okved\", \"median\"])"
   ]
  },
  {
   "cell_type": "code",
   "execution_count": 199,
   "metadata": {
    "collapsed": false,
    "pycharm": {
     "name": "#%%\n"
    }
   },
   "outputs": [],
   "source": [
    "df = pd.DataFrame()\n",
    "labelencoder = LabelEncoder()\n",
    "df[\"INN\"] = dataset[\"INN\"]\n",
    "df[\"okved\"] = dataset[\"okved\"]\n",
    "df[\"region\"] = labelencoder.fit_transform(dataset[\"region\"].values)\n",
    "df[\"section\"] = labelencoder.fit_transform(dataset[\"section\"].values)"
   ]
  },
  {
   "cell_type": "code",
   "execution_count": 220,
   "metadata": {
    "collapsed": false,
    "pycharm": {
     "name": "#%%\n"
    }
   },
   "outputs": [],
   "source": [
    "# get day work company\n",
    "from datetime import datetime\n",
    "\n",
    "df[\"day\"] = (datetime.now() - pd.to_datetime(dataset[\"registration_date\"])).dt.days"
   ]
  },
  {
   "cell_type": "code",
   "execution_count": 204,
   "metadata": {
    "collapsed": false,
    "pycharm": {
     "name": "#%%\n"
    }
   },
   "outputs": [
    {
     "data": {
      "text/html": [
       "<div>\n",
       "<style scoped>\n",
       "    .dataframe tbody tr th:only-of-type {\n",
       "        vertical-align: middle;\n",
       "    }\n",
       "\n",
       "    .dataframe tbody tr th {\n",
       "        vertical-align: top;\n",
       "    }\n",
       "\n",
       "    .dataframe thead th {\n",
       "        text-align: right;\n",
       "    }\n",
       "</style>\n",
       "<table border=\"1\" class=\"dataframe\">\n",
       "  <thead>\n",
       "    <tr style=\"text-align: right;\">\n",
       "      <th></th>\n",
       "      <th>INN</th>\n",
       "      <th>registration_date</th>\n",
       "      <th>region</th>\n",
       "      <th>okved</th>\n",
       "      <th>industry</th>\n",
       "      <th>section</th>\n",
       "      <th>cluster_id</th>\n",
       "    </tr>\n",
       "  </thead>\n",
       "  <tbody>\n",
       "    <tr>\n",
       "      <th>0</th>\n",
       "      <td>20502013704</td>\n",
       "      <td>2014-12-05</td>\n",
       "      <td>Республика Башкортостан</td>\n",
       "      <td>96</td>\n",
       "      <td>Предоставление услуг парикмахерскими и салонам...</td>\n",
       "      <td>Предоставление прочих видов услуг</td>\n",
       "      <td>NaN</td>\n",
       "    </tr>\n",
       "    <tr>\n",
       "      <th>1</th>\n",
       "      <td>10404244707</td>\n",
       "      <td>2019-08-14</td>\n",
       "      <td>Республика Адыгея</td>\n",
       "      <td>96</td>\n",
       "      <td>Предоставление услуг парикмахерскими и салонам...</td>\n",
       "      <td>Предоставление прочих видов услуг</td>\n",
       "      <td>NaN</td>\n",
       "    </tr>\n",
       "    <tr>\n",
       "      <th>2</th>\n",
       "      <td>20201737037</td>\n",
       "      <td>2019-05-08</td>\n",
       "      <td>Республика Башкортостан</td>\n",
       "      <td>96</td>\n",
       "      <td>Предоставление услуг парикмахерскими и салонам...</td>\n",
       "      <td>Предоставление прочих видов услуг</td>\n",
       "      <td>NaN</td>\n",
       "    </tr>\n",
       "    <tr>\n",
       "      <th>3</th>\n",
       "      <td>20103734461</td>\n",
       "      <td>2016-09-02</td>\n",
       "      <td>Республика Башкортостан</td>\n",
       "      <td>96</td>\n",
       "      <td>Предоставление услуг парикмахерскими и салонам...</td>\n",
       "      <td>Предоставление прочих видов услуг</td>\n",
       "      <td>NaN</td>\n",
       "    </tr>\n",
       "    <tr>\n",
       "      <th>4</th>\n",
       "      <td>20201871427</td>\n",
       "      <td>2019-08-05</td>\n",
       "      <td>Республика Башкортостан</td>\n",
       "      <td>49</td>\n",
       "      <td>Перевозка грузов неспециализированными автотра...</td>\n",
       "      <td>Транспортировка и хранение</td>\n",
       "      <td>NaN</td>\n",
       "    </tr>\n",
       "    <tr>\n",
       "      <th>...</th>\n",
       "      <td>...</td>\n",
       "      <td>...</td>\n",
       "      <td>...</td>\n",
       "      <td>...</td>\n",
       "      <td>...</td>\n",
       "      <td>...</td>\n",
       "      <td>...</td>\n",
       "    </tr>\n",
       "    <tr>\n",
       "      <th>3843256</th>\n",
       "      <td>500913259367</td>\n",
       "      <td>2022-07-28</td>\n",
       "      <td>Московская область</td>\n",
       "      <td>47</td>\n",
       "      <td>Деятельность по осуществлению торговли через а...</td>\n",
       "      <td>Торговля оптовая и розничная; ремонт автотранс...</td>\n",
       "      <td>NaN</td>\n",
       "    </tr>\n",
       "    <tr>\n",
       "      <th>3843257</th>\n",
       "      <td>522303478526</td>\n",
       "      <td>2022-08-01</td>\n",
       "      <td>Нижегородская область</td>\n",
       "      <td>47</td>\n",
       "      <td>Торговля розничная по почте или по информацион...</td>\n",
       "      <td>Торговля оптовая и розничная; ремонт автотранс...</td>\n",
       "      <td>NaN</td>\n",
       "    </tr>\n",
       "    <tr>\n",
       "      <th>3843258</th>\n",
       "      <td>390103227400</td>\n",
       "      <td>2022-08-01</td>\n",
       "      <td>Калининградская область</td>\n",
       "      <td>63</td>\n",
       "      <td>Деятельность по обработке данных, предоставлен...</td>\n",
       "      <td>Деятельность в области информации и связи</td>\n",
       "      <td>NaN</td>\n",
       "    </tr>\n",
       "    <tr>\n",
       "      <th>3843259</th>\n",
       "      <td>775115558281</td>\n",
       "      <td>2022-08-01</td>\n",
       "      <td>г Москва</td>\n",
       "      <td>47</td>\n",
       "      <td>Торговля розничная домашними животными и корма...</td>\n",
       "      <td>Торговля оптовая и розничная; ремонт автотранс...</td>\n",
       "      <td>NaN</td>\n",
       "    </tr>\n",
       "    <tr>\n",
       "      <th>3843260</th>\n",
       "      <td>667907470534</td>\n",
       "      <td>2022-07-28</td>\n",
       "      <td>Московская область</td>\n",
       "      <td>47</td>\n",
       "      <td>Торговля розничная по почте или по информацион...</td>\n",
       "      <td>Торговля оптовая и розничная; ремонт автотранс...</td>\n",
       "      <td>NaN</td>\n",
       "    </tr>\n",
       "  </tbody>\n",
       "</table>\n",
       "<p>3843261 rows × 7 columns</p>\n",
       "</div>"
      ],
      "text/plain": [
       "                  INN registration_date                   region  okved  \\\n",
       "0         20502013704        2014-12-05  Республика Башкортостан     96   \n",
       "1         10404244707        2019-08-14        Республика Адыгея     96   \n",
       "2         20201737037        2019-05-08  Республика Башкортостан     96   \n",
       "3         20103734461        2016-09-02  Республика Башкортостан     96   \n",
       "4         20201871427        2019-08-05  Республика Башкортостан     49   \n",
       "...               ...               ...                      ...    ...   \n",
       "3843256  500913259367        2022-07-28       Московская область     47   \n",
       "3843257  522303478526        2022-08-01    Нижегородская область     47   \n",
       "3843258  390103227400        2022-08-01  Калининградская область     63   \n",
       "3843259  775115558281        2022-08-01                 г Москва     47   \n",
       "3843260  667907470534        2022-07-28       Московская область     47   \n",
       "\n",
       "                                                  industry  \\\n",
       "0        Предоставление услуг парикмахерскими и салонам...   \n",
       "1        Предоставление услуг парикмахерскими и салонам...   \n",
       "2        Предоставление услуг парикмахерскими и салонам...   \n",
       "3        Предоставление услуг парикмахерскими и салонам...   \n",
       "4        Перевозка грузов неспециализированными автотра...   \n",
       "...                                                    ...   \n",
       "3843256  Деятельность по осуществлению торговли через а...   \n",
       "3843257  Торговля розничная по почте или по информацион...   \n",
       "3843258  Деятельность по обработке данных, предоставлен...   \n",
       "3843259  Торговля розничная домашними животными и корма...   \n",
       "3843260  Торговля розничная по почте или по информацион...   \n",
       "\n",
       "                                                   section  cluster_id  \n",
       "0                        Предоставление прочих видов услуг         NaN  \n",
       "1                        Предоставление прочих видов услуг         NaN  \n",
       "2                        Предоставление прочих видов услуг         NaN  \n",
       "3                        Предоставление прочих видов услуг         NaN  \n",
       "4                               Транспортировка и хранение         NaN  \n",
       "...                                                    ...         ...  \n",
       "3843256  Торговля оптовая и розничная; ремонт автотранс...         NaN  \n",
       "3843257  Торговля оптовая и розничная; ремонт автотранс...         NaN  \n",
       "3843258          Деятельность в области информации и связи         NaN  \n",
       "3843259  Торговля оптовая и розничная; ремонт автотранс...         NaN  \n",
       "3843260  Торговля оптовая и розничная; ремонт автотранс...         NaN  \n",
       "\n",
       "[3843261 rows x 7 columns]"
      ]
     },
     "execution_count": 204,
     "metadata": {},
     "output_type": "execute_result"
    }
   ],
   "source": []
  },
  {
   "cell_type": "markdown",
   "metadata": {
    "collapsed": false,
    "pycharm": {
     "name": "#%% md\n"
    }
   },
   "source": []
  },
  {
   "cell_type": "code",
   "execution_count": 246,
   "metadata": {
    "collapsed": false,
    "pycharm": {
     "name": "#%%\n"
    }
   },
   "outputs": [
    {
     "name": "stderr",
     "output_type": "stream",
     "text": [
      "  0%|          | 12214/3843261 [07:18<38:12:29, 27.85it/s]\n"
     ]
    },
    {
     "ename": "KeyboardInterrupt",
     "evalue": "",
     "output_type": "error",
     "traceback": [
      "\u001b[1;31m---------------------------------------------------------------------------\u001b[0m",
      "\u001b[1;31mKeyboardInterrupt\u001b[0m                         Traceback (most recent call last)",
      "Cell \u001b[1;32mIn [246], line 6\u001b[0m\n\u001b[0;32m      4\u001b[0m counts \u001b[38;5;241m=\u001b[39m \u001b[38;5;28mlist\u001b[39m()\n\u001b[0;32m      5\u001b[0m \u001b[38;5;28;01mfor\u001b[39;00m i \u001b[38;5;129;01min\u001b[39;00m tqdm(\u001b[38;5;28mrange\u001b[39m(dataset\u001b[38;5;241m.\u001b[39mshape[\u001b[38;5;241m0\u001b[39m])):\n\u001b[1;32m----> 6\u001b[0m     counts\u001b[38;5;241m.\u001b[39mappend(return_median( \u001b[38;5;241m*\u001b[39m\u001b[43mdataset\u001b[49m\u001b[43m[\u001b[49m\u001b[43m[\u001b[49m\u001b[38;5;124;43m\"\u001b[39;49m\u001b[38;5;124;43mregion\u001b[39;49m\u001b[38;5;124;43m\"\u001b[39;49m\u001b[43m,\u001b[49m\u001b[43m \u001b[49m\u001b[38;5;124;43m\"\u001b[39;49m\u001b[38;5;124;43mokved\u001b[39;49m\u001b[38;5;124;43m\"\u001b[39;49m\u001b[43m]\u001b[49m\u001b[43m]\u001b[49m\u001b[38;5;241m.\u001b[39mloc[i]\u001b[38;5;241m.\u001b[39mvalues))\n",
      "File \u001b[1;32m~\\.virtualenvs\\clustering_hackatone-IBb2UeHh\\lib\\site-packages\\pandas\\core\\frame.py:3816\u001b[0m, in \u001b[0;36mDataFrame.__getitem__\u001b[1;34m(self, key)\u001b[0m\n\u001b[0;32m   3813\u001b[0m \u001b[38;5;28;01mif\u001b[39;00m \u001b[38;5;28mgetattr\u001b[39m(indexer, \u001b[38;5;124m\"\u001b[39m\u001b[38;5;124mdtype\u001b[39m\u001b[38;5;124m\"\u001b[39m, \u001b[38;5;28;01mNone\u001b[39;00m) \u001b[38;5;241m==\u001b[39m \u001b[38;5;28mbool\u001b[39m:\n\u001b[0;32m   3814\u001b[0m     indexer \u001b[38;5;241m=\u001b[39m np\u001b[38;5;241m.\u001b[39mwhere(indexer)[\u001b[38;5;241m0\u001b[39m]\n\u001b[1;32m-> 3816\u001b[0m data \u001b[38;5;241m=\u001b[39m \u001b[38;5;28;43mself\u001b[39;49m\u001b[38;5;241;43m.\u001b[39;49m\u001b[43m_take_with_is_copy\u001b[49m\u001b[43m(\u001b[49m\u001b[43mindexer\u001b[49m\u001b[43m,\u001b[49m\u001b[43m \u001b[49m\u001b[43maxis\u001b[49m\u001b[38;5;241;43m=\u001b[39;49m\u001b[38;5;241;43m1\u001b[39;49m\u001b[43m)\u001b[49m\n\u001b[0;32m   3818\u001b[0m \u001b[38;5;28;01mif\u001b[39;00m is_single_key:\n\u001b[0;32m   3819\u001b[0m     \u001b[38;5;66;03m# What does looking for a single key in a non-unique index return?\u001b[39;00m\n\u001b[0;32m   3820\u001b[0m     \u001b[38;5;66;03m# The behavior is inconsistent. It returns a Series, except when\u001b[39;00m\n\u001b[0;32m   3821\u001b[0m     \u001b[38;5;66;03m# - the key itself is repeated (test on data.shape, #9519), or\u001b[39;00m\n\u001b[0;32m   3822\u001b[0m     \u001b[38;5;66;03m# - we have a MultiIndex on columns (test on self.columns, #21309)\u001b[39;00m\n\u001b[0;32m   3823\u001b[0m     \u001b[38;5;28;01mif\u001b[39;00m data\u001b[38;5;241m.\u001b[39mshape[\u001b[38;5;241m1\u001b[39m] \u001b[38;5;241m==\u001b[39m \u001b[38;5;241m1\u001b[39m \u001b[38;5;129;01mand\u001b[39;00m \u001b[38;5;129;01mnot\u001b[39;00m \u001b[38;5;28misinstance\u001b[39m(\u001b[38;5;28mself\u001b[39m\u001b[38;5;241m.\u001b[39mcolumns, MultiIndex):\n\u001b[0;32m   3824\u001b[0m         \u001b[38;5;66;03m# GH#26490 using data[key] can cause RecursionError\u001b[39;00m\n",
      "File \u001b[1;32m~\\.virtualenvs\\clustering_hackatone-IBb2UeHh\\lib\\site-packages\\pandas\\core\\generic.py:3902\u001b[0m, in \u001b[0;36mNDFrame._take_with_is_copy\u001b[1;34m(self, indices, axis)\u001b[0m\n\u001b[0;32m   3894\u001b[0m \u001b[38;5;28;01mdef\u001b[39;00m \u001b[38;5;21m_take_with_is_copy\u001b[39m(\u001b[38;5;28mself\u001b[39m: NDFrameT, indices, axis\u001b[38;5;241m=\u001b[39m\u001b[38;5;241m0\u001b[39m) \u001b[38;5;241m-\u001b[39m\u001b[38;5;241m>\u001b[39m NDFrameT:\n\u001b[0;32m   3895\u001b[0m     \u001b[38;5;124;03m\"\"\"\u001b[39;00m\n\u001b[0;32m   3896\u001b[0m \u001b[38;5;124;03m    Internal version of the `take` method that sets the `_is_copy`\u001b[39;00m\n\u001b[0;32m   3897\u001b[0m \u001b[38;5;124;03m    attribute to keep track of the parent dataframe (using in indexing\u001b[39;00m\n\u001b[1;32m   (...)\u001b[0m\n\u001b[0;32m   3900\u001b[0m \u001b[38;5;124;03m    See the docstring of `take` for full explanation of the parameters.\u001b[39;00m\n\u001b[0;32m   3901\u001b[0m \u001b[38;5;124;03m    \"\"\"\u001b[39;00m\n\u001b[1;32m-> 3902\u001b[0m     result \u001b[38;5;241m=\u001b[39m \u001b[38;5;28;43mself\u001b[39;49m\u001b[38;5;241;43m.\u001b[39;49m\u001b[43m_take\u001b[49m\u001b[43m(\u001b[49m\u001b[43mindices\u001b[49m\u001b[38;5;241;43m=\u001b[39;49m\u001b[43mindices\u001b[49m\u001b[43m,\u001b[49m\u001b[43m \u001b[49m\u001b[43maxis\u001b[49m\u001b[38;5;241;43m=\u001b[39;49m\u001b[43maxis\u001b[49m\u001b[43m)\u001b[49m\n\u001b[0;32m   3903\u001b[0m     \u001b[38;5;66;03m# Maybe set copy if we didn't actually change the index.\u001b[39;00m\n\u001b[0;32m   3904\u001b[0m     \u001b[38;5;28;01mif\u001b[39;00m \u001b[38;5;129;01mnot\u001b[39;00m result\u001b[38;5;241m.\u001b[39m_get_axis(axis)\u001b[38;5;241m.\u001b[39mequals(\u001b[38;5;28mself\u001b[39m\u001b[38;5;241m.\u001b[39m_get_axis(axis)):\n",
      "File \u001b[1;32m~\\.virtualenvs\\clustering_hackatone-IBb2UeHh\\lib\\site-packages\\pandas\\core\\generic.py:3886\u001b[0m, in \u001b[0;36mNDFrame._take\u001b[1;34m(self, indices, axis, convert_indices)\u001b[0m\n\u001b[0;32m   3879\u001b[0m \u001b[38;5;124;03m\"\"\"\u001b[39;00m\n\u001b[0;32m   3880\u001b[0m \u001b[38;5;124;03mInternal version of the `take` allowing specification of additional args.\u001b[39;00m\n\u001b[0;32m   3881\u001b[0m \n\u001b[0;32m   3882\u001b[0m \u001b[38;5;124;03mSee the docstring of `take` for full explanation of the parameters.\u001b[39;00m\n\u001b[0;32m   3883\u001b[0m \u001b[38;5;124;03m\"\"\"\u001b[39;00m\n\u001b[0;32m   3884\u001b[0m \u001b[38;5;28mself\u001b[39m\u001b[38;5;241m.\u001b[39m_consolidate_inplace()\n\u001b[1;32m-> 3886\u001b[0m new_data \u001b[38;5;241m=\u001b[39m \u001b[38;5;28;43mself\u001b[39;49m\u001b[38;5;241;43m.\u001b[39;49m\u001b[43m_mgr\u001b[49m\u001b[38;5;241;43m.\u001b[39;49m\u001b[43mtake\u001b[49m\u001b[43m(\u001b[49m\n\u001b[0;32m   3887\u001b[0m \u001b[43m    \u001b[49m\u001b[43mindices\u001b[49m\u001b[43m,\u001b[49m\n\u001b[0;32m   3888\u001b[0m \u001b[43m    \u001b[49m\u001b[43maxis\u001b[49m\u001b[38;5;241;43m=\u001b[39;49m\u001b[38;5;28;43mself\u001b[39;49m\u001b[38;5;241;43m.\u001b[39;49m\u001b[43m_get_block_manager_axis\u001b[49m\u001b[43m(\u001b[49m\u001b[43maxis\u001b[49m\u001b[43m)\u001b[49m\u001b[43m,\u001b[49m\n\u001b[0;32m   3889\u001b[0m \u001b[43m    \u001b[49m\u001b[43mverify\u001b[49m\u001b[38;5;241;43m=\u001b[39;49m\u001b[38;5;28;43;01mTrue\u001b[39;49;00m\u001b[43m,\u001b[49m\n\u001b[0;32m   3890\u001b[0m \u001b[43m    \u001b[49m\u001b[43mconvert_indices\u001b[49m\u001b[38;5;241;43m=\u001b[39;49m\u001b[43mconvert_indices\u001b[49m\u001b[43m,\u001b[49m\n\u001b[0;32m   3891\u001b[0m \u001b[43m\u001b[49m\u001b[43m)\u001b[49m\n\u001b[0;32m   3892\u001b[0m \u001b[38;5;28;01mreturn\u001b[39;00m \u001b[38;5;28mself\u001b[39m\u001b[38;5;241m.\u001b[39m_constructor(new_data)\u001b[38;5;241m.\u001b[39m__finalize__(\u001b[38;5;28mself\u001b[39m, method\u001b[38;5;241m=\u001b[39m\u001b[38;5;124m\"\u001b[39m\u001b[38;5;124mtake\u001b[39m\u001b[38;5;124m\"\u001b[39m)\n",
      "File \u001b[1;32m~\\.virtualenvs\\clustering_hackatone-IBb2UeHh\\lib\\site-packages\\pandas\\core\\internals\\managers.py:968\u001b[0m, in \u001b[0;36mBaseBlockManager.take\u001b[1;34m(self, indexer, axis, verify, convert_indices)\u001b[0m\n\u001b[0;32m    965\u001b[0m     indexer \u001b[38;5;241m=\u001b[39m maybe_convert_indices(indexer, n, verify\u001b[38;5;241m=\u001b[39mverify)\n\u001b[0;32m    967\u001b[0m new_labels \u001b[38;5;241m=\u001b[39m \u001b[38;5;28mself\u001b[39m\u001b[38;5;241m.\u001b[39maxes[axis]\u001b[38;5;241m.\u001b[39mtake(indexer)\n\u001b[1;32m--> 968\u001b[0m \u001b[38;5;28;01mreturn\u001b[39;00m \u001b[38;5;28;43mself\u001b[39;49m\u001b[38;5;241;43m.\u001b[39;49m\u001b[43mreindex_indexer\u001b[49m\u001b[43m(\u001b[49m\n\u001b[0;32m    969\u001b[0m \u001b[43m    \u001b[49m\u001b[43mnew_axis\u001b[49m\u001b[38;5;241;43m=\u001b[39;49m\u001b[43mnew_labels\u001b[49m\u001b[43m,\u001b[49m\n\u001b[0;32m    970\u001b[0m \u001b[43m    \u001b[49m\u001b[43mindexer\u001b[49m\u001b[38;5;241;43m=\u001b[39;49m\u001b[43mindexer\u001b[49m\u001b[43m,\u001b[49m\n\u001b[0;32m    971\u001b[0m \u001b[43m    \u001b[49m\u001b[43maxis\u001b[49m\u001b[38;5;241;43m=\u001b[39;49m\u001b[43maxis\u001b[49m\u001b[43m,\u001b[49m\n\u001b[0;32m    972\u001b[0m \u001b[43m    \u001b[49m\u001b[43mallow_dups\u001b[49m\u001b[38;5;241;43m=\u001b[39;49m\u001b[38;5;28;43;01mTrue\u001b[39;49;00m\u001b[43m,\u001b[49m\n\u001b[0;32m    973\u001b[0m \u001b[43m    \u001b[49m\u001b[43mcopy\u001b[49m\u001b[38;5;241;43m=\u001b[39;49m\u001b[38;5;28;43;01mNone\u001b[39;49;00m\u001b[43m,\u001b[49m\n\u001b[0;32m    974\u001b[0m \u001b[43m\u001b[49m\u001b[43m)\u001b[49m\n",
      "File \u001b[1;32m~\\.virtualenvs\\clustering_hackatone-IBb2UeHh\\lib\\site-packages\\pandas\\core\\internals\\managers.py:735\u001b[0m, in \u001b[0;36mBaseBlockManager.reindex_indexer\u001b[1;34m(self, new_axis, indexer, axis, fill_value, allow_dups, copy, only_slice, use_na_proxy)\u001b[0m\n\u001b[0;32m    732\u001b[0m     \u001b[38;5;28;01mraise\u001b[39;00m \u001b[38;5;167;01mIndexError\u001b[39;00m(\u001b[38;5;124m\"\u001b[39m\u001b[38;5;124mRequested axis not found in manager\u001b[39m\u001b[38;5;124m\"\u001b[39m)\n\u001b[0;32m    734\u001b[0m \u001b[38;5;28;01mif\u001b[39;00m axis \u001b[38;5;241m==\u001b[39m \u001b[38;5;241m0\u001b[39m:\n\u001b[1;32m--> 735\u001b[0m     new_blocks, new_refs \u001b[38;5;241m=\u001b[39m \u001b[38;5;28;43mself\u001b[39;49m\u001b[38;5;241;43m.\u001b[39;49m\u001b[43m_slice_take_blocks_ax0\u001b[49m\u001b[43m(\u001b[49m\n\u001b[0;32m    736\u001b[0m \u001b[43m        \u001b[49m\u001b[43mindexer\u001b[49m\u001b[43m,\u001b[49m\n\u001b[0;32m    737\u001b[0m \u001b[43m        \u001b[49m\u001b[43mfill_value\u001b[49m\u001b[38;5;241;43m=\u001b[39;49m\u001b[43mfill_value\u001b[49m\u001b[43m,\u001b[49m\n\u001b[0;32m    738\u001b[0m \u001b[43m        \u001b[49m\u001b[43monly_slice\u001b[49m\u001b[38;5;241;43m=\u001b[39;49m\u001b[43monly_slice\u001b[49m\u001b[43m,\u001b[49m\n\u001b[0;32m    739\u001b[0m \u001b[43m        \u001b[49m\u001b[43muse_na_proxy\u001b[49m\u001b[38;5;241;43m=\u001b[39;49m\u001b[43muse_na_proxy\u001b[49m\u001b[43m,\u001b[49m\n\u001b[0;32m    740\u001b[0m \u001b[43m    \u001b[49m\u001b[43m)\u001b[49m\n\u001b[0;32m    741\u001b[0m \u001b[38;5;28;01melse\u001b[39;00m:\n\u001b[0;32m    742\u001b[0m     new_blocks \u001b[38;5;241m=\u001b[39m [\n\u001b[0;32m    743\u001b[0m         blk\u001b[38;5;241m.\u001b[39mtake_nd(\n\u001b[0;32m    744\u001b[0m             indexer,\n\u001b[1;32m   (...)\u001b[0m\n\u001b[0;32m    750\u001b[0m         \u001b[38;5;28;01mfor\u001b[39;00m blk \u001b[38;5;129;01min\u001b[39;00m \u001b[38;5;28mself\u001b[39m\u001b[38;5;241m.\u001b[39mblocks\n\u001b[0;32m    751\u001b[0m     ]\n",
      "File \u001b[1;32m~\\.virtualenvs\\clustering_hackatone-IBb2UeHh\\lib\\site-packages\\pandas\\core\\internals\\managers.py:902\u001b[0m, in \u001b[0;36mBaseBlockManager._slice_take_blocks_ax0\u001b[1;34m(self, slice_or_indexer, fill_value, only_slice, use_na_proxy)\u001b[0m\n\u001b[0;32m    900\u001b[0m         refs\u001b[38;5;241m.\u001b[39mappend(weakref\u001b[38;5;241m.\u001b[39mref(blk))\n\u001b[0;32m    901\u001b[0m \u001b[38;5;28;01melse\u001b[39;00m:\n\u001b[1;32m--> 902\u001b[0m     nb \u001b[38;5;241m=\u001b[39m \u001b[43mblk\u001b[49m\u001b[38;5;241;43m.\u001b[39;49m\u001b[43mtake_nd\u001b[49m\u001b[43m(\u001b[49m\u001b[43mtaker\u001b[49m\u001b[43m,\u001b[49m\u001b[43m \u001b[49m\u001b[43maxis\u001b[49m\u001b[38;5;241;43m=\u001b[39;49m\u001b[38;5;241;43m0\u001b[39;49m\u001b[43m,\u001b[49m\u001b[43m \u001b[49m\u001b[43mnew_mgr_locs\u001b[49m\u001b[38;5;241;43m=\u001b[39;49m\u001b[43mmgr_locs\u001b[49m\u001b[43m)\u001b[49m\n\u001b[0;32m    903\u001b[0m     blocks\u001b[38;5;241m.\u001b[39mappend(nb)\n\u001b[0;32m    904\u001b[0m     refs\u001b[38;5;241m.\u001b[39mappend(\u001b[38;5;28;01mNone\u001b[39;00m)\n",
      "File \u001b[1;32m~\\.virtualenvs\\clustering_hackatone-IBb2UeHh\\lib\\site-packages\\pandas\\core\\internals\\blocks.py:878\u001b[0m, in \u001b[0;36mBlock.take_nd\u001b[1;34m(self, indexer, axis, new_mgr_locs, fill_value)\u001b[0m\n\u001b[0;32m    875\u001b[0m     allow_fill \u001b[38;5;241m=\u001b[39m \u001b[38;5;28;01mTrue\u001b[39;00m\n\u001b[0;32m    877\u001b[0m \u001b[38;5;66;03m# Note: algos.take_nd has upcast logic similar to coerce_to_target_dtype\u001b[39;00m\n\u001b[1;32m--> 878\u001b[0m new_values \u001b[38;5;241m=\u001b[39m \u001b[43malgos\u001b[49m\u001b[38;5;241;43m.\u001b[39;49m\u001b[43mtake_nd\u001b[49m\u001b[43m(\u001b[49m\n\u001b[0;32m    879\u001b[0m \u001b[43m    \u001b[49m\u001b[43mvalues\u001b[49m\u001b[43m,\u001b[49m\u001b[43m \u001b[49m\u001b[43mindexer\u001b[49m\u001b[43m,\u001b[49m\u001b[43m \u001b[49m\u001b[43maxis\u001b[49m\u001b[38;5;241;43m=\u001b[39;49m\u001b[43maxis\u001b[49m\u001b[43m,\u001b[49m\u001b[43m \u001b[49m\u001b[43mallow_fill\u001b[49m\u001b[38;5;241;43m=\u001b[39;49m\u001b[43mallow_fill\u001b[49m\u001b[43m,\u001b[49m\u001b[43m \u001b[49m\u001b[43mfill_value\u001b[49m\u001b[38;5;241;43m=\u001b[39;49m\u001b[43mfill_value\u001b[49m\n\u001b[0;32m    880\u001b[0m \u001b[43m\u001b[49m\u001b[43m)\u001b[49m\n\u001b[0;32m    882\u001b[0m \u001b[38;5;66;03m# Called from three places in managers, all of which satisfy\u001b[39;00m\n\u001b[0;32m    883\u001b[0m \u001b[38;5;66;03m#  this assertion\u001b[39;00m\n\u001b[0;32m    884\u001b[0m \u001b[38;5;28;01massert\u001b[39;00m \u001b[38;5;129;01mnot\u001b[39;00m (axis \u001b[38;5;241m==\u001b[39m \u001b[38;5;241m0\u001b[39m \u001b[38;5;129;01mand\u001b[39;00m new_mgr_locs \u001b[38;5;129;01mis\u001b[39;00m \u001b[38;5;28;01mNone\u001b[39;00m)\n",
      "File \u001b[1;32m~\\.virtualenvs\\clustering_hackatone-IBb2UeHh\\lib\\site-packages\\pandas\\core\\array_algos\\take.py:117\u001b[0m, in \u001b[0;36mtake_nd\u001b[1;34m(arr, indexer, axis, fill_value, allow_fill)\u001b[0m\n\u001b[0;32m    114\u001b[0m     \u001b[38;5;28;01mreturn\u001b[39;00m arr\u001b[38;5;241m.\u001b[39mtake(indexer, fill_value\u001b[38;5;241m=\u001b[39mfill_value, allow_fill\u001b[38;5;241m=\u001b[39mallow_fill)\n\u001b[0;32m    116\u001b[0m arr \u001b[38;5;241m=\u001b[39m np\u001b[38;5;241m.\u001b[39masarray(arr)\n\u001b[1;32m--> 117\u001b[0m \u001b[38;5;28;01mreturn\u001b[39;00m \u001b[43m_take_nd_ndarray\u001b[49m\u001b[43m(\u001b[49m\u001b[43marr\u001b[49m\u001b[43m,\u001b[49m\u001b[43m \u001b[49m\u001b[43mindexer\u001b[49m\u001b[43m,\u001b[49m\u001b[43m \u001b[49m\u001b[43maxis\u001b[49m\u001b[43m,\u001b[49m\u001b[43m \u001b[49m\u001b[43mfill_value\u001b[49m\u001b[43m,\u001b[49m\u001b[43m \u001b[49m\u001b[43mallow_fill\u001b[49m\u001b[43m)\u001b[49m\n",
      "\u001b[1;31mKeyboardInterrupt\u001b[0m: "
     ]
    }
   ],
   "source": [
    "counts = list()\n",
    "for i in tqdm(range(dataset.shape[0])):\n",
    "    counts.append(dataset[[\"region\", \"okved\"]] in ))"
   ]
  },
  {
   "cell_type": "code",
   "execution_count": 290,
   "metadata": {
    "collapsed": false,
    "pycharm": {
     "name": "#%%\n"
    }
   },
   "outputs": [
    {
     "data": {
      "text/html": [
       "<div>\n",
       "<style scoped>\n",
       "    .dataframe tbody tr th:only-of-type {\n",
       "        vertical-align: middle;\n",
       "    }\n",
       "\n",
       "    .dataframe tbody tr th {\n",
       "        vertical-align: top;\n",
       "    }\n",
       "\n",
       "    .dataframe thead th {\n",
       "        text-align: right;\n",
       "    }\n",
       "</style>\n",
       "<table border=\"1\" class=\"dataframe\">\n",
       "  <thead>\n",
       "    <tr style=\"text-align: right;\">\n",
       "      <th></th>\n",
       "      <th>region</th>\n",
       "      <th>okved</th>\n",
       "      <th>median</th>\n",
       "    </tr>\n",
       "  </thead>\n",
       "  <tbody>\n",
       "    <tr>\n",
       "      <th>0</th>\n",
       "      <td>Республика Башкортостан</td>\n",
       "      <td>96</td>\n",
       "      <td>1.5</td>\n",
       "    </tr>\n",
       "    <tr>\n",
       "      <th>1</th>\n",
       "      <td>Республика Башкортостан</td>\n",
       "      <td>96</td>\n",
       "      <td>1.5</td>\n",
       "    </tr>\n",
       "    <tr>\n",
       "      <th>2</th>\n",
       "      <td>Республика Башкортостан</td>\n",
       "      <td>96</td>\n",
       "      <td>1.5</td>\n",
       "    </tr>\n",
       "    <tr>\n",
       "      <th>3</th>\n",
       "      <td>Республика Башкортостан</td>\n",
       "      <td>49</td>\n",
       "      <td>1.0</td>\n",
       "    </tr>\n",
       "    <tr>\n",
       "      <th>4</th>\n",
       "      <td>Республика Башкортостан</td>\n",
       "      <td>96</td>\n",
       "      <td>1.5</td>\n",
       "    </tr>\n",
       "    <tr>\n",
       "      <th>...</th>\n",
       "      <td>...</td>\n",
       "      <td>...</td>\n",
       "      <td>...</td>\n",
       "    </tr>\n",
       "    <tr>\n",
       "      <th>16947</th>\n",
       "      <td>Брянская область</td>\n",
       "      <td>49</td>\n",
       "      <td>1.0</td>\n",
       "    </tr>\n",
       "    <tr>\n",
       "      <th>16948</th>\n",
       "      <td>Брянская область</td>\n",
       "      <td>47</td>\n",
       "      <td>1.0</td>\n",
       "    </tr>\n",
       "    <tr>\n",
       "      <th>16949</th>\n",
       "      <td>Брянская область</td>\n",
       "      <td>62</td>\n",
       "      <td>2.0</td>\n",
       "    </tr>\n",
       "    <tr>\n",
       "      <th>16950</th>\n",
       "      <td>Еврейская автономная область</td>\n",
       "      <td>47</td>\n",
       "      <td>1.0</td>\n",
       "    </tr>\n",
       "    <tr>\n",
       "      <th>16951</th>\n",
       "      <td>Республика Тыва</td>\n",
       "      <td>96</td>\n",
       "      <td>2.0</td>\n",
       "    </tr>\n",
       "  </tbody>\n",
       "</table>\n",
       "<p>16952 rows × 3 columns</p>\n",
       "</div>"
      ],
      "text/plain": [
       "                             region  okved  median\n",
       "0           Республика Башкортостан     96     1.5\n",
       "1           Республика Башкортостан     96     1.5\n",
       "2           Республика Башкортостан     96     1.5\n",
       "3           Республика Башкортостан     49     1.0\n",
       "4           Республика Башкортостан     96     1.5\n",
       "...                             ...    ...     ...\n",
       "16947              Брянская область     49     1.0\n",
       "16948              Брянская область     47     1.0\n",
       "16949              Брянская область     62     2.0\n",
       "16950  Еврейская автономная область     47     1.0\n",
       "16951               Республика Тыва     96     2.0\n",
       "\n",
       "[16952 rows x 3 columns]"
      ]
     },
     "execution_count": 290,
     "metadata": {},
     "output_type": "execute_result"
    }
   ],
   "source": [
    "ex"
   ]
  },
  {
   "cell_type": "code",
   "execution_count": null,
   "metadata": {
    "collapsed": false,
    "pycharm": {
     "is_executing": true,
     "name": "#%%\n"
    }
   },
   "outputs": [
    {
     "name": "stderr",
     "output_type": "stream",
     "text": [
      "  2%|▏         | 83436/3843261 [01:44<1:18:07, 802.06it/s]"
     ]
    }
   ],
   "source": [
    "median = []\n",
    "for i in tqdm(dataset[[\"region\", \"okved\"]].values):\n",
    "    median.append(ex[(ex[\"region\"]==i[0]) & (ex[\"okved\"] == i[1])][\"median\"])"
   ]
  },
  {
   "cell_type": "code",
   "execution_count": 289,
   "metadata": {
    "collapsed": false,
    "pycharm": {
     "name": "#%%\n"
    }
   },
   "outputs": [
    {
     "data": {
      "text/plain": [
       "array([['Республика Башкортостан', 96],\n",
       "       ['Республика Адыгея', 96],\n",
       "       ['Республика Башкортостан', 96],\n",
       "       ...,\n",
       "       ['Калининградская область', 63],\n",
       "       ['г Москва', 47],\n",
       "       ['Московская область', 47]], dtype=object)"
      ]
     },
     "execution_count": 289,
     "metadata": {},
     "output_type": "execute_result"
    }
   ],
   "source": [
    "dataset[[\"region\", \"okved\"]].values"
   ]
  },
  {
   "cell_type": "code",
   "execution_count": null,
   "metadata": {
    "collapsed": false,
    "pycharm": {
     "name": "#%%\n"
    }
   },
   "outputs": [],
   "source": [
    "for i in tqdm(enumerate(dataset[[\"region\", \"okved\"]]))"
   ]
  },
  {
   "cell_type": "code",
   "execution_count": 247,
   "metadata": {
    "collapsed": false,
    "pycharm": {
     "name": "#%%\n"
    }
   },
   "outputs": [
    {
     "data": {
      "text/html": [
       "<div>\n",
       "<style scoped>\n",
       "    .dataframe tbody tr th:only-of-type {\n",
       "        vertical-align: middle;\n",
       "    }\n",
       "\n",
       "    .dataframe tbody tr th {\n",
       "        vertical-align: top;\n",
       "    }\n",
       "\n",
       "    .dataframe thead th {\n",
       "        text-align: right;\n",
       "    }\n",
       "</style>\n",
       "<table border=\"1\" class=\"dataframe\">\n",
       "  <thead>\n",
       "    <tr style=\"text-align: right;\">\n",
       "      <th></th>\n",
       "      <th>region</th>\n",
       "      <th>okved</th>\n",
       "    </tr>\n",
       "  </thead>\n",
       "  <tbody>\n",
       "    <tr>\n",
       "      <th>0</th>\n",
       "      <td>Республика Башкортостан</td>\n",
       "      <td>96</td>\n",
       "    </tr>\n",
       "    <tr>\n",
       "      <th>1</th>\n",
       "      <td>Республика Адыгея</td>\n",
       "      <td>96</td>\n",
       "    </tr>\n",
       "    <tr>\n",
       "      <th>2</th>\n",
       "      <td>Республика Башкортостан</td>\n",
       "      <td>96</td>\n",
       "    </tr>\n",
       "    <tr>\n",
       "      <th>3</th>\n",
       "      <td>Республика Башкортостан</td>\n",
       "      <td>96</td>\n",
       "    </tr>\n",
       "    <tr>\n",
       "      <th>4</th>\n",
       "      <td>Республика Башкортостан</td>\n",
       "      <td>49</td>\n",
       "    </tr>\n",
       "    <tr>\n",
       "      <th>...</th>\n",
       "      <td>...</td>\n",
       "      <td>...</td>\n",
       "    </tr>\n",
       "    <tr>\n",
       "      <th>3843256</th>\n",
       "      <td>Московская область</td>\n",
       "      <td>47</td>\n",
       "    </tr>\n",
       "    <tr>\n",
       "      <th>3843257</th>\n",
       "      <td>Нижегородская область</td>\n",
       "      <td>47</td>\n",
       "    </tr>\n",
       "    <tr>\n",
       "      <th>3843258</th>\n",
       "      <td>Калининградская область</td>\n",
       "      <td>63</td>\n",
       "    </tr>\n",
       "    <tr>\n",
       "      <th>3843259</th>\n",
       "      <td>г Москва</td>\n",
       "      <td>47</td>\n",
       "    </tr>\n",
       "    <tr>\n",
       "      <th>3843260</th>\n",
       "      <td>Московская область</td>\n",
       "      <td>47</td>\n",
       "    </tr>\n",
       "  </tbody>\n",
       "</table>\n",
       "<p>3843261 rows × 2 columns</p>\n",
       "</div>"
      ],
      "text/plain": [
       "                          region  okved\n",
       "0        Республика Башкортостан     96\n",
       "1              Республика Адыгея     96\n",
       "2        Республика Башкортостан     96\n",
       "3        Республика Башкортостан     96\n",
       "4        Республика Башкортостан     49\n",
       "...                          ...    ...\n",
       "3843256       Московская область     47\n",
       "3843257    Нижегородская область     47\n",
       "3843258  Калининградская область     63\n",
       "3843259                 г Москва     47\n",
       "3843260       Московская область     47\n",
       "\n",
       "[3843261 rows x 2 columns]"
      ]
     },
     "execution_count": 247,
     "metadata": {},
     "output_type": "execute_result"
    }
   ],
   "source": [
    "dataset[[\"region\", \"okved\"]]"
   ]
  }
 ],
 "metadata": {
  "kernelspec": {
   "display_name": "Python 3.10.4 ('egrul-parser-qstEWC3M')",
   "language": "python",
   "name": "python3"
  },
  "language_info": {
   "codemirror_mode": {
    "name": "ipython",
    "version": 2
   },
   "file_extension": ".py",
   "mimetype": "text/x-python",
   "name": "python",
   "nbconvert_exporter": "python",
   "pygments_lexer": "ipython2",
   "version": "3.10.4"
  },
  "vscode": {
   "interpreter": {
    "hash": "ca0177114a01f022405163d9ea05d0511db0a7b7ffa6c7cc5c9f5d99b7cf9384"
   }
  }
 },
 "nbformat": 4,
 "nbformat_minor": 0
}
